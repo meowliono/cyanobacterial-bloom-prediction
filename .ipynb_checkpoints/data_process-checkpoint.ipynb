{
 "cells": [
  {
   "cell_type": "code",
   "execution_count": 3,
   "metadata": {},
   "outputs": [],
   "source": [
    "import numpy as np\n",
    "import pandas as pd\n",
    "from sklearn.model_selection import train_test_split\n",
    "from pgmpy.estimators import BDeuScore, K2Score, BicScore, ExhaustiveSearch, HillClimbSearch, BayesianEstimator, MaximumLikelihoodEstimator\n",
    "from pgmpy.models import BayesianModel\n",
    "from pgmpy.inference import BeliefPropagation"
   ]
  },
  {
   "cell_type": "markdown",
   "metadata": {},
   "source": [
    "## Data import and variable selection\n",
    "- Import geosmin, microcystin and cyanobacteria abundance datasets\n",
    "- Select columns according to importance ranking<br>"
   ]
  },
  {
   "cell_type": "code",
   "execution_count": 4,
   "metadata": {},
   "outputs": [],
   "source": [
    "df_g = pd.read_csv(\"geosmin.csv\")[['Date','SSC','NO','cos','DO','Si','TKN','Geo']]\n",
    "df_m = pd.read_csv(\"microcystin.csv\")[['Date','Temp','sin','DO','TP','Fe','MC']]\n",
    "df_c = pd.read_csv(\"cyanobacteria_abundance.csv\")[['Date','DO','TKN','DP','Turb','Temp','Cyano']]\n",
    "df_sp = pd.read_csv(\"solar&prec.csv\").drop([\"LAT\",\"LON\",\"YEAR\",\"MO\",\"DY\"], axis=1)"
   ]
  },
  {
   "cell_type": "markdown",
   "metadata": {},
   "source": [
    "## Data merge"
   ]
  },
  {
   "cell_type": "code",
   "execution_count": 5,
   "metadata": {},
   "outputs": [],
   "source": [
    "df_geo = df_sp.merge(df_g,on = 'Date',how = 'inner')\n",
    "df_mc = df_sp.merge(df_m,on = 'Date',how = 'inner')\n",
    "df_cyano = df_sp.merge(df_c,on = 'Date',how = 'inner')"
   ]
  },
  {
   "cell_type": "markdown",
   "metadata": {},
   "source": [
    "## Predict the missing data\n",
    "Predicts states of all the missing variables."
   ]
  },
  {
   "cell_type": "markdown",
   "metadata": {},
   "source": [
    "## Split the data into training/test set\n",
    "75% of the response variable data were used in training. The data was selected at random."
   ]
  },
  {
   "cell_type": "code",
   "execution_count": 6,
   "metadata": {},
   "outputs": [],
   "source": [
    "y_geo = df_g.loc[:, 'Geo']\n",
    "x_geo = df_geo.loc[:, 'PRECTOT':'TKN']\n",
    "y_mc = df_m.loc[:, 'MC']\n",
    "x_mc = df_mc.loc[:, 'PRECTOT':'Fe']\n",
    "y_cyano = df_c.loc[:, 'Cyano']\n",
    "x_cyano = df_cyano.loc[:, 'PRECTOT':'Temp']\n",
    "x_geo_train, x_geo_test, y_geo_train, y_geo_test = train_test_split(x_geo, y_geo, train_size=0.75)\n",
    "x_mc_train, x_mc_test, y_mc_train, y_mc_test = train_test_split(x_mc, y_mc, train_size=0.75)\n",
    "x_cyano_train, x_cyano_test, y_cyano_train, y_cyano_test = train_test_split(x_cyano, y_cyano, train_size=0.75)\n",
    "geo_train = pd.concat([x_geo_train, y_geo_train], axis = 1).reset_index()\n",
    "mc_train = pd.concat([x_mc_train, y_mc_train], axis = 1).reset_index()\n",
    "cyano_train = pd.concat([x_cyano_train, y_cyano_train], axis = 1).reset_index()\n",
    "geo_test = pd.concat([x_geo_test, y_geo_test], axis = 1).reset_index()\n",
    "mc_test = pd.concat([x_mc_test, y_mc_test], axis = 1).reset_index()\n",
    "cyano_test = pd.concat([x_cyano_test, y_cyano_test], axis = 1).reset_index()\n",
    "del geo_train['index']\n",
    "del mc_train['index']\n",
    "del cyano_train['index']\n",
    "del geo_test['index']\n",
    "del mc_test['index']\n",
    "del cyano_test['index']\n",
    "geo_train.to_csv('geo_train.csv')\n",
    "mc_train.to_csv('mc_train.csv')\n",
    "cyano_train.to_csv('cyano_train.csv')\n",
    "geo_test.to_csv('geo_test.csv')\n",
    "mc_test.to_csv('mc_test.csv')\n",
    "cyano_test.to_csv('cyano_test.csv')"
   ]
  }
 ],
 "metadata": {
  "kernelspec": {
   "display_name": "Python 3",
   "language": "python",
   "name": "python3"
  },
  "language_info": {
   "codemirror_mode": {
    "name": "ipython",
    "version": 3
   },
   "file_extension": ".py",
   "mimetype": "text/x-python",
   "name": "python",
   "nbconvert_exporter": "python",
   "pygments_lexer": "ipython3",
   "version": "3.8.3"
  }
 },
 "nbformat": 4,
 "nbformat_minor": 4
}
