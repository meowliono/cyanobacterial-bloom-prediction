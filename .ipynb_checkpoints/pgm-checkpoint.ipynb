{
 "cells": [
  {
   "cell_type": "code",
   "execution_count": 1,
   "metadata": {},
   "outputs": [],
   "source": [
    "import numpy as np\n",
    "import pandas as pd\n",
    "from sklearn.model_selection import train_test_split\n",
    "from pgmpy.estimators import BDeuScore, K2Score, BicScore, ExhaustiveSearch, HillClimbSearch\n",
    "from pgmpy.models import BayesianModel"
   ]
  },
  {
   "cell_type": "markdown",
   "metadata": {},
   "source": [
    "## Data import and variable selection\n",
    "- Import geosmin, microcystin and cyanobacteria abundance datasets\n",
    "- Select columns according to importance ranking<br>\n",
    "Geosmin:<br>\n",
    "![image](var_geo.gif)<br>\n",
    "Cyanobacteria:<br>\n",
    "![image](var_cyano.gif)<br>\n",
    "Microcystin:<br>\n",
    "![image](var_mc.gif)<br>"
   ]
  },
  {
   "cell_type": "code",
   "execution_count": 3,
   "metadata": {},
   "outputs": [],
   "source": [
    "df_g = pd.read_csv(\"geosmin.csv\")[['Date','SSC','NO','cos','DO','Si','TKN','Geo']]\n",
    "df_m = pd.read_csv(\"microcystin.csv\")[['Date','Temp','sin','DO','Chl-a','TP','Fe','MC']]\n",
    "df_c = pd.read_csv(\"cyanobacteria_abundance.csv\")[['Date','Chl-a','sin','TKN','DP','Si','Temp','Cyano']]\n",
    "df_sp = pd.read_csv(\"solar&prec.csv\").drop([\"LAT\",\"LON\",\"YEAR\",\"MO\",\"DY\"], axis=1)"
   ]
  },
  {
   "cell_type": "markdown",
   "metadata": {},
   "source": [
    "## Data merge"
   ]
  },
  {
   "cell_type": "code",
   "execution_count": 11,
   "metadata": {},
   "outputs": [
    {
     "data": {
      "text/html": [
       "<div>\n",
       "<style scoped>\n",
       "    .dataframe tbody tr th:only-of-type {\n",
       "        vertical-align: middle;\n",
       "    }\n",
       "\n",
       "    .dataframe tbody tr th {\n",
       "        vertical-align: top;\n",
       "    }\n",
       "\n",
       "    .dataframe thead th {\n",
       "        text-align: right;\n",
       "    }\n",
       "</style>\n",
       "<table border=\"1\" class=\"dataframe\">\n",
       "  <thead>\n",
       "    <tr style=\"text-align: right;\">\n",
       "      <th></th>\n",
       "      <th>PRECTOT</th>\n",
       "      <th>ALLSKY_SFC_SW_DWN</th>\n",
       "      <th>SSC</th>\n",
       "      <th>NO</th>\n",
       "      <th>cos</th>\n",
       "      <th>DO</th>\n",
       "      <th>Si</th>\n",
       "      <th>TKN</th>\n",
       "      <th>Geo</th>\n",
       "    </tr>\n",
       "  </thead>\n",
       "  <tbody>\n",
       "    <tr>\n",
       "      <th>0</th>\n",
       "      <td>0.00</td>\n",
       "      <td>22.07</td>\n",
       "      <td>12.8</td>\n",
       "      <td>0.030</td>\n",
       "      <td>-0.81</td>\n",
       "      <td>5.91</td>\n",
       "      <td>1.44</td>\n",
       "      <td>0.590</td>\n",
       "      <td>3.7</td>\n",
       "    </tr>\n",
       "    <tr>\n",
       "      <th>1</th>\n",
       "      <td>0.02</td>\n",
       "      <td>22.86</td>\n",
       "      <td>10.9</td>\n",
       "      <td>0.070</td>\n",
       "      <td>-0.44</td>\n",
       "      <td>6.70</td>\n",
       "      <td>7.04</td>\n",
       "      <td>0.556</td>\n",
       "      <td>4.8</td>\n",
       "    </tr>\n",
       "    <tr>\n",
       "      <th>2</th>\n",
       "      <td>0.18</td>\n",
       "      <td>13.21</td>\n",
       "      <td>3.8</td>\n",
       "      <td>0.010</td>\n",
       "      <td>0.76</td>\n",
       "      <td>14.42</td>\n",
       "      <td>8.55</td>\n",
       "      <td>0.556</td>\n",
       "      <td>22.0</td>\n",
       "    </tr>\n",
       "    <tr>\n",
       "      <th>3</th>\n",
       "      <td>0.96</td>\n",
       "      <td>15.84</td>\n",
       "      <td>2.6</td>\n",
       "      <td>0.170</td>\n",
       "      <td>-0.98</td>\n",
       "      <td>6.16</td>\n",
       "      <td>5.95</td>\n",
       "      <td>0.619</td>\n",
       "      <td>63.0</td>\n",
       "    </tr>\n",
       "    <tr>\n",
       "      <th>4</th>\n",
       "      <td>0.36</td>\n",
       "      <td>22.03</td>\n",
       "      <td>18.1</td>\n",
       "      <td>0.030</td>\n",
       "      <td>-1.00</td>\n",
       "      <td>7.98</td>\n",
       "      <td>7.56</td>\n",
       "      <td>0.786</td>\n",
       "      <td>7.0</td>\n",
       "    </tr>\n",
       "    <tr>\n",
       "      <th>...</th>\n",
       "      <td>...</td>\n",
       "      <td>...</td>\n",
       "      <td>...</td>\n",
       "      <td>...</td>\n",
       "      <td>...</td>\n",
       "      <td>...</td>\n",
       "      <td>...</td>\n",
       "      <td>...</td>\n",
       "      <td>...</td>\n",
       "    </tr>\n",
       "    <tr>\n",
       "      <th>179</th>\n",
       "      <td>0.00</td>\n",
       "      <td>10.37</td>\n",
       "      <td>3.0</td>\n",
       "      <td>0.005</td>\n",
       "      <td>0.98</td>\n",
       "      <td>14.64</td>\n",
       "      <td>162.00</td>\n",
       "      <td>0.469</td>\n",
       "      <td>7.6</td>\n",
       "    </tr>\n",
       "    <tr>\n",
       "      <th>180</th>\n",
       "      <td>0.00</td>\n",
       "      <td>14.24</td>\n",
       "      <td>4.0</td>\n",
       "      <td>0.005</td>\n",
       "      <td>0.76</td>\n",
       "      <td>13.65</td>\n",
       "      <td>0.71</td>\n",
       "      <td>0.697</td>\n",
       "      <td>5.0</td>\n",
       "    </tr>\n",
       "    <tr>\n",
       "      <th>181</th>\n",
       "      <td>0.02</td>\n",
       "      <td>19.74</td>\n",
       "      <td>3.0</td>\n",
       "      <td>0.005</td>\n",
       "      <td>0.37</td>\n",
       "      <td>13.57</td>\n",
       "      <td>0.71</td>\n",
       "      <td>0.633</td>\n",
       "      <td>2.7</td>\n",
       "    </tr>\n",
       "    <tr>\n",
       "      <th>182</th>\n",
       "      <td>0.04</td>\n",
       "      <td>12.85</td>\n",
       "      <td>40.0</td>\n",
       "      <td>0.034</td>\n",
       "      <td>-0.23</td>\n",
       "      <td>8.30</td>\n",
       "      <td>10.14</td>\n",
       "      <td>0.738</td>\n",
       "      <td>0.5</td>\n",
       "    </tr>\n",
       "    <tr>\n",
       "      <th>183</th>\n",
       "      <td>0.00</td>\n",
       "      <td>27.18</td>\n",
       "      <td>6.0</td>\n",
       "      <td>0.005</td>\n",
       "      <td>-0.93</td>\n",
       "      <td>10.12</td>\n",
       "      <td>2.02</td>\n",
       "      <td>0.608</td>\n",
       "      <td>8.4</td>\n",
       "    </tr>\n",
       "  </tbody>\n",
       "</table>\n",
       "<p>184 rows × 9 columns</p>\n",
       "</div>"
      ],
      "text/plain": [
       "     PRECTOT  ALLSKY_SFC_SW_DWN   SSC     NO   cos     DO      Si    TKN   Geo\n",
       "0       0.00              22.07  12.8  0.030 -0.81   5.91    1.44  0.590   3.7\n",
       "1       0.02              22.86  10.9  0.070 -0.44   6.70    7.04  0.556   4.8\n",
       "2       0.18              13.21   3.8  0.010  0.76  14.42    8.55  0.556  22.0\n",
       "3       0.96              15.84   2.6  0.170 -0.98   6.16    5.95  0.619  63.0\n",
       "4       0.36              22.03  18.1  0.030 -1.00   7.98    7.56  0.786   7.0\n",
       "..       ...                ...   ...    ...   ...    ...     ...    ...   ...\n",
       "179     0.00              10.37   3.0  0.005  0.98  14.64  162.00  0.469   7.6\n",
       "180     0.00              14.24   4.0  0.005  0.76  13.65    0.71  0.697   5.0\n",
       "181     0.02              19.74   3.0  0.005  0.37  13.57    0.71  0.633   2.7\n",
       "182     0.04              12.85  40.0  0.034 -0.23   8.30   10.14  0.738   0.5\n",
       "183     0.00              27.18   6.0  0.005 -0.93  10.12    2.02  0.608   8.4\n",
       "\n",
       "[184 rows x 9 columns]"
      ]
     },
     "execution_count": 11,
     "metadata": {},
     "output_type": "execute_result"
    }
   ],
   "source": [
    "df_geo = df_sp.merge(df_g,on = 'Date',how = 'inner').drop(['Date'],axis=1)\n",
    "df_mc = df_sp.merge(df_m,on = 'Date',how = 'inner').drop(['Date'],axis=1)\n",
    "df_cyano = df_sp.merge(df_c,on = 'Date',how = 'inner').drop(['Date'],axis=1)\n",
    "df_geo"
   ]
  },
  {
   "cell_type": "markdown",
   "metadata": {},
   "source": [
    "## Predict the missing data\n",
    "Predicts states of all the missing variables."
   ]
  },
  {
   "cell_type": "markdown",
   "metadata": {},
   "source": [
    "## Split the data into training/test set\n",
    "75% of the response variable data were used in training. The data was selected at random."
   ]
  },
  {
   "cell_type": "code",
   "execution_count": 12,
   "metadata": {},
   "outputs": [
    {
     "data": {
      "text/html": [
       "<div>\n",
       "<style scoped>\n",
       "    .dataframe tbody tr th:only-of-type {\n",
       "        vertical-align: middle;\n",
       "    }\n",
       "\n",
       "    .dataframe tbody tr th {\n",
       "        vertical-align: top;\n",
       "    }\n",
       "\n",
       "    .dataframe thead th {\n",
       "        text-align: right;\n",
       "    }\n",
       "</style>\n",
       "<table border=\"1\" class=\"dataframe\">\n",
       "  <thead>\n",
       "    <tr style=\"text-align: right;\">\n",
       "      <th></th>\n",
       "      <th>PRECTOT</th>\n",
       "      <th>ALLSKY_SFC_SW_DWN</th>\n",
       "      <th>Temp</th>\n",
       "      <th>sin</th>\n",
       "      <th>DO</th>\n",
       "      <th>Chl-a</th>\n",
       "      <th>TP</th>\n",
       "      <th>Fe</th>\n",
       "      <th>MC</th>\n",
       "    </tr>\n",
       "  </thead>\n",
       "  <tbody>\n",
       "    <tr>\n",
       "      <th>145</th>\n",
       "      <td>1.79</td>\n",
       "      <td>3.13</td>\n",
       "      <td>4.7</td>\n",
       "      <td>0.67</td>\n",
       "      <td>11.96</td>\n",
       "      <td>13.6</td>\n",
       "      <td>0.060</td>\n",
       "      <td>280.0</td>\n",
       "      <td>0.05</td>\n",
       "    </tr>\n",
       "    <tr>\n",
       "      <th>76</th>\n",
       "      <td>0.00</td>\n",
       "      <td>20.69</td>\n",
       "      <td>6.4</td>\n",
       "      <td>0.96</td>\n",
       "      <td>11.47</td>\n",
       "      <td>27.5</td>\n",
       "      <td>0.030</td>\n",
       "      <td>490.0</td>\n",
       "      <td>0.05</td>\n",
       "    </tr>\n",
       "    <tr>\n",
       "      <th>107</th>\n",
       "      <td>0.00</td>\n",
       "      <td>25.03</td>\n",
       "      <td>26.0</td>\n",
       "      <td>-0.82</td>\n",
       "      <td>6.47</td>\n",
       "      <td>3.8</td>\n",
       "      <td>0.190</td>\n",
       "      <td>1810.0</td>\n",
       "      <td>0.05</td>\n",
       "    </tr>\n",
       "    <tr>\n",
       "      <th>168</th>\n",
       "      <td>0.00</td>\n",
       "      <td>11.80</td>\n",
       "      <td>16.8</td>\n",
       "      <td>-0.89</td>\n",
       "      <td>8.68</td>\n",
       "      <td>15.5</td>\n",
       "      <td>0.070</td>\n",
       "      <td>670.0</td>\n",
       "      <td>0.19</td>\n",
       "    </tr>\n",
       "    <tr>\n",
       "      <th>20</th>\n",
       "      <td>0.02</td>\n",
       "      <td>13.10</td>\n",
       "      <td>7.7</td>\n",
       "      <td>1.00</td>\n",
       "      <td>12.70</td>\n",
       "      <td>19.2</td>\n",
       "      <td>0.065</td>\n",
       "      <td>590.0</td>\n",
       "      <td>0.05</td>\n",
       "    </tr>\n",
       "    <tr>\n",
       "      <th>...</th>\n",
       "      <td>...</td>\n",
       "      <td>...</td>\n",
       "      <td>...</td>\n",
       "      <td>...</td>\n",
       "      <td>...</td>\n",
       "      <td>...</td>\n",
       "      <td>...</td>\n",
       "      <td>...</td>\n",
       "      <td>...</td>\n",
       "    </tr>\n",
       "    <tr>\n",
       "      <th>132</th>\n",
       "      <td>0.03</td>\n",
       "      <td>19.97</td>\n",
       "      <td>8.4</td>\n",
       "      <td>0.95</td>\n",
       "      <td>11.60</td>\n",
       "      <td>32.3</td>\n",
       "      <td>0.110</td>\n",
       "      <td>690.0</td>\n",
       "      <td>0.05</td>\n",
       "    </tr>\n",
       "    <tr>\n",
       "      <th>79</th>\n",
       "      <td>10.72</td>\n",
       "      <td>11.71</td>\n",
       "      <td>14.9</td>\n",
       "      <td>0.89</td>\n",
       "      <td>7.96</td>\n",
       "      <td>2.2</td>\n",
       "      <td>0.080</td>\n",
       "      <td>1230.0</td>\n",
       "      <td>0.05</td>\n",
       "    </tr>\n",
       "    <tr>\n",
       "      <th>136</th>\n",
       "      <td>0.00</td>\n",
       "      <td>28.68</td>\n",
       "      <td>25.4</td>\n",
       "      <td>0.06</td>\n",
       "      <td>6.92</td>\n",
       "      <td>4.9</td>\n",
       "      <td>0.120</td>\n",
       "      <td>1100.0</td>\n",
       "      <td>0.39</td>\n",
       "    </tr>\n",
       "    <tr>\n",
       "      <th>139</th>\n",
       "      <td>0.01</td>\n",
       "      <td>24.57</td>\n",
       "      <td>23.4</td>\n",
       "      <td>-0.77</td>\n",
       "      <td>6.64</td>\n",
       "      <td>9.1</td>\n",
       "      <td>0.150</td>\n",
       "      <td>1040.0</td>\n",
       "      <td>0.19</td>\n",
       "    </tr>\n",
       "    <tr>\n",
       "      <th>15</th>\n",
       "      <td>0.62</td>\n",
       "      <td>9.86</td>\n",
       "      <td>25.2</td>\n",
       "      <td>-0.92</td>\n",
       "      <td>5.82</td>\n",
       "      <td>12.4</td>\n",
       "      <td>0.040</td>\n",
       "      <td>355.0</td>\n",
       "      <td>2.08</td>\n",
       "    </tr>\n",
       "  </tbody>\n",
       "</table>\n",
       "<p>132 rows × 9 columns</p>\n",
       "</div>"
      ],
      "text/plain": [
       "     PRECTOT  ALLSKY_SFC_SW_DWN  Temp   sin     DO  Chl-a     TP      Fe    MC\n",
       "145     1.79               3.13   4.7  0.67  11.96   13.6  0.060   280.0  0.05\n",
       "76      0.00              20.69   6.4  0.96  11.47   27.5  0.030   490.0  0.05\n",
       "107     0.00              25.03  26.0 -0.82   6.47    3.8  0.190  1810.0  0.05\n",
       "168     0.00              11.80  16.8 -0.89   8.68   15.5  0.070   670.0  0.19\n",
       "20      0.02              13.10   7.7  1.00  12.70   19.2  0.065   590.0  0.05\n",
       "..       ...                ...   ...   ...    ...    ...    ...     ...   ...\n",
       "132     0.03              19.97   8.4  0.95  11.60   32.3  0.110   690.0  0.05\n",
       "79     10.72              11.71  14.9  0.89   7.96    2.2  0.080  1230.0  0.05\n",
       "136     0.00              28.68  25.4  0.06   6.92    4.9  0.120  1100.0  0.39\n",
       "139     0.01              24.57  23.4 -0.77   6.64    9.1  0.150  1040.0  0.19\n",
       "15      0.62               9.86  25.2 -0.92   5.82   12.4  0.040   355.0  2.08\n",
       "\n",
       "[132 rows x 9 columns]"
      ]
     },
     "execution_count": 12,
     "metadata": {},
     "output_type": "execute_result"
    }
   ],
   "source": [
    "y_geo = df_g.loc[:, 'Geo']\n",
    "x_geo = df_geo.loc[:, 'PRECTOT':'TKN']\n",
    "y_mc = df_m.loc[:, 'MC']\n",
    "x_mc = df_mc.loc[:, 'PRECTOT':'Fe']\n",
    "y_cyano = df_c.loc[:, 'Cyano']\n",
    "x_cyano = df_cyano.loc[:, 'PRECTOT':'Temp']\n",
    "x_geo_train, x_geo_test, y_geo_train, y_geo_test = train_test_split(x_geo, y_geo, train_size=0.75)\n",
    "x_mc_train, x_mc_test, y_mc_train, y_mc_test = train_test_split(x_mc, y_mc, train_size=0.75)\n",
    "x_cyano_train, x_cyano_test, y_cyano_train, y_cyano_test = train_test_split(x_cyano, y_cyano, train_size=0.75)\n",
    "geo_train = pd.concat([x_geo_train, y_geo_train], axis = 1)\n",
    "mc_train = pd.concat([x_mc_train, y_mc_train], axis = 1)\n",
    "cyano_train = pd.concat([x_cyano_train, y_cyano_train], axis = 1)\n",
    "mc_train"
   ]
  },
  {
   "cell_type": "markdown",
   "metadata": {},
   "source": [
    "## Structure learning\n",
    "- Score based structure learning using BDeu, K2 and BIC. It computes a score to measure how well the given Bayesian model fits to the data set\n",
    "- Searching methods include Exhaustive Search(Searches all possible graph with a given set of nodes) and Hill Climb Search(Starts at model start_dag and proceeds by step-by-step network modifications until a local maximum is reached) according to the scorng method supplied.\n",
    "\n",
    "Given n nodes, 2^(n*(n-1)) graphs need to be searched in Exhaustive Search. It is likely not feasible for n>6. "
   ]
  },
  {
   "cell_type": "code",
   "execution_count": 13,
   "metadata": {},
   "outputs": [],
   "source": [
    "#Ramdon sample 20% rows\n",
    "df_mc_sl = df_mc.sample(frac=0.2)\n",
    "df_geo_sl = df_geo.sample(frac=0.2)\n",
    "df_cyano_sl = df_cyano.sample(frac=0.2)"
   ]
  },
  {
   "cell_type": "code",
   "execution_count": 14,
   "metadata": {},
   "outputs": [
    {
     "name": "stderr",
     "output_type": "stream",
     "text": [
      "  0%|          | 15/1000000 [00:02<50:44:00,  5.48it/s]\n",
      "  0%|          | 0/1000000 [00:00<?, ?it/s]"
     ]
    },
    {
     "name": "stdout",
     "output_type": "stream",
     "text": [
      "[('PRECTOT', 'TP'), ('PRECTOT', 'Fe'), ('ALLSKY_SFC_SW_DWN', 'DO'), ('Temp', 'Chl-a'), ('Temp', 'ALLSKY_SFC_SW_DWN'), ('sin', 'Temp'), ('Chl-a', 'ALLSKY_SFC_SW_DWN'), ('TP', 'Temp'), ('Fe', 'sin'), ('Fe', 'Chl-a'), ('Fe', 'TP'), ('Fe', 'DO'), ('MC', 'TP'), ('MC', 'Fe')]\n"
     ]
    },
    {
     "name": "stderr",
     "output_type": "stream",
     "text": [
      "  0%|          | 12/1000000 [00:02<55:43:19,  4.99it/s]\n",
      "  0%|          | 0/1000000 [00:00<?, ?it/s]"
     ]
    },
    {
     "name": "stdout",
     "output_type": "stream",
     "text": [
      "[('PRECTOT', 'NO'), ('PRECTOT', 'cos'), ('ALLSKY_SFC_SW_DWN', 'DO'), ('ALLSKY_SFC_SW_DWN', 'Geo'), ('SSC', 'cos'), ('NO', 'cos'), ('NO', 'SSC'), ('NO', 'TKN'), ('cos', 'TKN'), ('cos', 'ALLSKY_SFC_SW_DWN'), ('DO', 'Si'), ('TKN', 'ALLSKY_SFC_SW_DWN')]\n"
     ]
    },
    {
     "name": "stderr",
     "output_type": "stream",
     "text": [
      "  0%|          | 11/1000000 [00:01<28:17:03,  9.82it/s]"
     ]
    },
    {
     "name": "stdout",
     "output_type": "stream",
     "text": [
      "[('PRECTOT', 'DP'), ('PRECTOT', 'Cyano'), ('ALLSKY_SFC_SW_DWN', 'Chl-a'), ('ALLSKY_SFC_SW_DWN', 'Si'), ('Chl-a', 'Temp'), ('Chl-a', 'sin'), ('TKN', 'ALLSKY_SFC_SW_DWN'), ('DP', 'Cyano'), ('DP', 'TKN'), ('Cyano', 'TKN'), ('Cyano', 'ALLSKY_SFC_SW_DWN')]\n"
     ]
    },
    {
     "name": "stderr",
     "output_type": "stream",
     "text": [
      "\n"
     ]
    }
   ],
   "source": [
    "#Use BIC scoring method and HillClimbSearch for microcystin, cyanobacteria abundance and geosmin model\n",
    "hc_mc = HillClimbSearch(df_mc_sl, scoring_method=BicScore(df_mc))\n",
    "best_model_mc = hc_mc.estimate()\n",
    "print(best_model_mc.edges())\n",
    "hc_geo = HillClimbSearch(df_geo_sl, scoring_method=BicScore(df_geo))\n",
    "best_model_geo = hc_geo.estimate()\n",
    "print(best_model_geo.edges())\n",
    "hc_cyano = HillClimbSearch(df_cyano_sl, scoring_method=BicScore(df_cyano))\n",
    "best_model_cyano = hc_cyano.estimate()\n",
    "print(best_model_cyano.edges())"
   ]
  },
  {
   "cell_type": "markdown",
   "metadata": {},
   "source": [
    "## Define the Bayesian model"
   ]
  },
  {
   "cell_type": "code",
   "execution_count": null,
   "metadata": {},
   "outputs": [],
   "source": []
  },
  {
   "cell_type": "markdown",
   "metadata": {},
   "source": [
    "## Parameter learning"
   ]
  },
  {
   "cell_type": "code",
   "execution_count": null,
   "metadata": {},
   "outputs": [],
   "source": []
  },
  {
   "cell_type": "markdown",
   "metadata": {},
   "source": [
    "## Max-Sum algorithm for MAP inference"
   ]
  },
  {
   "cell_type": "code",
   "execution_count": null,
   "metadata": {},
   "outputs": [],
   "source": []
  },
  {
   "cell_type": "markdown",
   "metadata": {},
   "source": [
    "## Model Validation"
   ]
  },
  {
   "cell_type": "code",
   "execution_count": null,
   "metadata": {},
   "outputs": [],
   "source": []
  }
 ],
 "metadata": {
  "kernelspec": {
   "display_name": "Python 3",
   "language": "python",
   "name": "python3"
  },
  "language_info": {
   "codemirror_mode": {
    "name": "ipython",
    "version": 3
   },
   "file_extension": ".py",
   "mimetype": "text/x-python",
   "name": "python",
   "nbconvert_exporter": "python",
   "pygments_lexer": "ipython3",
   "version": "3.8.3"
  }
 },
 "nbformat": 4,
 "nbformat_minor": 4
}
