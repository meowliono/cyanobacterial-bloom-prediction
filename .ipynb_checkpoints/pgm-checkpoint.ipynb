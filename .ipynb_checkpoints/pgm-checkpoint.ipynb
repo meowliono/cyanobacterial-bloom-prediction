{
 "cells": [
  {
   "cell_type": "code",
   "execution_count": 29,
   "metadata": {},
   "outputs": [],
   "source": [
    "import pandas as pd\n",
    "from sklearn.model_selection import train_test_split"
   ]
  },
  {
   "cell_type": "markdown",
   "metadata": {},
   "source": [
    "## Data import and merge"
   ]
  },
  {
   "cell_type": "code",
   "execution_count": 20,
   "metadata": {},
   "outputs": [],
   "source": [
    "df_g = pd.read_csv(\"geosmin.csv\")\n",
    "df_m = pd.read_csv(\"microcystin.csv\")\n",
    "df_c = pd.read_csv(\"cyanobacteria_abundance.csv\")\n",
    "var = pd.read_csv(\"variable_table.csv\")\n",
    "df_sp = pd.read_csv(\"solar&prec.csv\").drop([\"LAT\",\"LON\",\"YEAR\",\"MO\",\"DY\"], axis=1)\n",
    "df_geo = df_g.merge(df_sp,on = 'Date',how = 'inner').drop(['Unnamed: 8'], axis=1)\n",
    "df_mc = df_m.merge(df_sp,on = 'Date',how = 'inner').drop(['Unnamed: 8'], axis=1)\n",
    "df_cyano = df_c.merge(df_sp,on = 'Date',how = 'inner').drop(['Unnamed: 8'], axis=1)\n",
    "df_cyano.head()"
   ]
  },
  {
   "cell_type": "markdown",
   "metadata": {},
   "source": [
    "## Predict the missing data\n",
    "Predicts states of all the missing variables."
   ]
  },
  {
   "cell_type": "markdown",
   "metadata": {},
   "source": [
    "## Split the data into training/test set\n",
    "75% of the response variable data were used in training. The data was selected at random."
   ]
  },
  {
   "cell_type": "code",
   "execution_count": 27,
   "metadata": {},
   "outputs": [],
   "source": [
    "y_geo = df_geo.loc[:, 'Geo']\n",
    "x_geo = df_geo.loc[:, 'Date':'ALLSKY_SFC_SW_DWN']\n",
    "y_mc = df_mc.loc[:, 'MC']\n",
    "x_mc = df_mc.loc[:, 'Date':'ALLSKY_SFC_SW_DWN']\n",
    "y_cyano = df_cyano.loc[:, 'Cyano']\n",
    "x_cyano = df_cyano.loc[:, 'Date':'ALLSKY_SFC_SW_DWN']\n",
    "x_geo_train, x_geo_test, y_geo_train, y_geo_test = train_test_split(x_geo, y_geo, train_size=0.75)\n",
    "x_mc_train, x_mc_test, y_mc_train, y_mc_test = train_test_split(x_mc, y_mc, train_size=0.75)\n",
    "x_cyano_train, x_cyano_test, y_cyano_train, y_cyano_test = train_test_split(x_cyano, y_cyano, train_size=0.75)"
   ]
  }
 ],
 "metadata": {
  "kernelspec": {
   "display_name": "Python 3",
   "language": "python",
   "name": "python3"
  },
  "language_info": {
   "codemirror_mode": {
    "name": "ipython",
    "version": 3
   },
   "file_extension": ".py",
   "mimetype": "text/x-python",
   "name": "python",
   "nbconvert_exporter": "python",
   "pygments_lexer": "ipython3",
   "version": "3.8.3"
  }
 },
 "nbformat": 4,
 "nbformat_minor": 4
}
