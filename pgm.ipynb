{
 "cells": [
  {
   "cell_type": "code",
   "execution_count": 32,
   "metadata": {},
   "outputs": [],
   "source": [
    "import numpy as np\n",
    "import pandas as pd\n",
    "from sklearn.model_selection import train_test_split\n",
    "from pgmpy.estimators import BDeuScore, K2Score, BicScore, ExhaustiveSearch, HillClimbSearch, BayesianEstimator, MaximumLikelihoodEstimator\n",
    "from pgmpy.models import BayesianModel"
   ]
  },
  {
   "cell_type": "markdown",
   "metadata": {},
   "source": [
    "## Data import and variable selection\n",
    "- Import geosmin, microcystin and cyanobacteria abundance datasets\n",
    "- Select columns according to importance ranking<br>\n",
    "Geosmin:<br>\n",
    "![image](var_geo.gif)<br>\n",
    "Cyanobacteria:<br>\n",
    "![image](var_cyano.gif)<br>\n",
    "Microcystin:<br>\n",
    "![image](var_mc.gif)<br>"
   ]
  },
  {
   "cell_type": "code",
   "execution_count": 33,
   "metadata": {},
   "outputs": [],
   "source": [
    "df_g = pd.read_csv(\"geosmin.csv\")[['Date','SSC','NO','cos','DO','Si','TKN','Geo']]\n",
    "df_m = pd.read_csv(\"microcystin.csv\")[['Date','Temp','sin','DO','Chl-a','TP','Fe','MC']]\n",
    "df_c = pd.read_csv(\"cyanobacteria_abundance.csv\")[['Date','Chl-a','sin','TKN','DP','Si','Temp','Cyano']]\n",
    "df_sp = pd.read_csv(\"solar&prec.csv\").drop([\"LAT\",\"LON\",\"YEAR\",\"MO\",\"DY\"], axis=1)"
   ]
  },
  {
   "cell_type": "markdown",
   "metadata": {},
   "source": [
    "## Data merge"
   ]
  },
  {
   "cell_type": "code",
   "execution_count": 34,
   "metadata": {},
   "outputs": [
    {
     "data": {
      "text/html": [
       "<div>\n",
       "<style scoped>\n",
       "    .dataframe tbody tr th:only-of-type {\n",
       "        vertical-align: middle;\n",
       "    }\n",
       "\n",
       "    .dataframe tbody tr th {\n",
       "        vertical-align: top;\n",
       "    }\n",
       "\n",
       "    .dataframe thead th {\n",
       "        text-align: right;\n",
       "    }\n",
       "</style>\n",
       "<table border=\"1\" class=\"dataframe\">\n",
       "  <thead>\n",
       "    <tr style=\"text-align: right;\">\n",
       "      <th></th>\n",
       "      <th>PRECTOT</th>\n",
       "      <th>ALLSKY_SFC_SW_DWN</th>\n",
       "      <th>SSC</th>\n",
       "      <th>NO</th>\n",
       "      <th>cos</th>\n",
       "      <th>DO</th>\n",
       "      <th>Si</th>\n",
       "      <th>TKN</th>\n",
       "      <th>Geo</th>\n",
       "    </tr>\n",
       "  </thead>\n",
       "  <tbody>\n",
       "    <tr>\n",
       "      <th>0</th>\n",
       "      <td>0.00</td>\n",
       "      <td>22.07</td>\n",
       "      <td>12.8</td>\n",
       "      <td>0.030</td>\n",
       "      <td>-0.81</td>\n",
       "      <td>5.91</td>\n",
       "      <td>1.44</td>\n",
       "      <td>0.590</td>\n",
       "      <td>3.7</td>\n",
       "    </tr>\n",
       "    <tr>\n",
       "      <th>1</th>\n",
       "      <td>0.02</td>\n",
       "      <td>22.86</td>\n",
       "      <td>10.9</td>\n",
       "      <td>0.070</td>\n",
       "      <td>-0.44</td>\n",
       "      <td>6.70</td>\n",
       "      <td>7.04</td>\n",
       "      <td>0.556</td>\n",
       "      <td>4.8</td>\n",
       "    </tr>\n",
       "    <tr>\n",
       "      <th>2</th>\n",
       "      <td>0.18</td>\n",
       "      <td>13.21</td>\n",
       "      <td>3.8</td>\n",
       "      <td>0.010</td>\n",
       "      <td>0.76</td>\n",
       "      <td>14.42</td>\n",
       "      <td>8.55</td>\n",
       "      <td>0.556</td>\n",
       "      <td>22.0</td>\n",
       "    </tr>\n",
       "    <tr>\n",
       "      <th>3</th>\n",
       "      <td>0.96</td>\n",
       "      <td>15.84</td>\n",
       "      <td>2.6</td>\n",
       "      <td>0.170</td>\n",
       "      <td>-0.98</td>\n",
       "      <td>6.16</td>\n",
       "      <td>5.95</td>\n",
       "      <td>0.619</td>\n",
       "      <td>63.0</td>\n",
       "    </tr>\n",
       "    <tr>\n",
       "      <th>4</th>\n",
       "      <td>0.36</td>\n",
       "      <td>22.03</td>\n",
       "      <td>18.1</td>\n",
       "      <td>0.030</td>\n",
       "      <td>-1.00</td>\n",
       "      <td>7.98</td>\n",
       "      <td>7.56</td>\n",
       "      <td>0.786</td>\n",
       "      <td>7.0</td>\n",
       "    </tr>\n",
       "    <tr>\n",
       "      <th>...</th>\n",
       "      <td>...</td>\n",
       "      <td>...</td>\n",
       "      <td>...</td>\n",
       "      <td>...</td>\n",
       "      <td>...</td>\n",
       "      <td>...</td>\n",
       "      <td>...</td>\n",
       "      <td>...</td>\n",
       "      <td>...</td>\n",
       "    </tr>\n",
       "    <tr>\n",
       "      <th>179</th>\n",
       "      <td>0.00</td>\n",
       "      <td>10.37</td>\n",
       "      <td>3.0</td>\n",
       "      <td>0.005</td>\n",
       "      <td>0.98</td>\n",
       "      <td>14.64</td>\n",
       "      <td>162.00</td>\n",
       "      <td>0.469</td>\n",
       "      <td>7.6</td>\n",
       "    </tr>\n",
       "    <tr>\n",
       "      <th>180</th>\n",
       "      <td>0.00</td>\n",
       "      <td>14.24</td>\n",
       "      <td>4.0</td>\n",
       "      <td>0.005</td>\n",
       "      <td>0.76</td>\n",
       "      <td>13.65</td>\n",
       "      <td>0.71</td>\n",
       "      <td>0.697</td>\n",
       "      <td>5.0</td>\n",
       "    </tr>\n",
       "    <tr>\n",
       "      <th>181</th>\n",
       "      <td>0.02</td>\n",
       "      <td>19.74</td>\n",
       "      <td>3.0</td>\n",
       "      <td>0.005</td>\n",
       "      <td>0.37</td>\n",
       "      <td>13.57</td>\n",
       "      <td>0.71</td>\n",
       "      <td>0.633</td>\n",
       "      <td>2.7</td>\n",
       "    </tr>\n",
       "    <tr>\n",
       "      <th>182</th>\n",
       "      <td>0.04</td>\n",
       "      <td>12.85</td>\n",
       "      <td>40.0</td>\n",
       "      <td>0.034</td>\n",
       "      <td>-0.23</td>\n",
       "      <td>8.30</td>\n",
       "      <td>10.14</td>\n",
       "      <td>0.738</td>\n",
       "      <td>0.5</td>\n",
       "    </tr>\n",
       "    <tr>\n",
       "      <th>183</th>\n",
       "      <td>0.00</td>\n",
       "      <td>27.18</td>\n",
       "      <td>6.0</td>\n",
       "      <td>0.005</td>\n",
       "      <td>-0.93</td>\n",
       "      <td>10.12</td>\n",
       "      <td>2.02</td>\n",
       "      <td>0.608</td>\n",
       "      <td>8.4</td>\n",
       "    </tr>\n",
       "  </tbody>\n",
       "</table>\n",
       "<p>184 rows × 9 columns</p>\n",
       "</div>"
      ],
      "text/plain": [
       "     PRECTOT  ALLSKY_SFC_SW_DWN   SSC     NO   cos     DO      Si    TKN   Geo\n",
       "0       0.00              22.07  12.8  0.030 -0.81   5.91    1.44  0.590   3.7\n",
       "1       0.02              22.86  10.9  0.070 -0.44   6.70    7.04  0.556   4.8\n",
       "2       0.18              13.21   3.8  0.010  0.76  14.42    8.55  0.556  22.0\n",
       "3       0.96              15.84   2.6  0.170 -0.98   6.16    5.95  0.619  63.0\n",
       "4       0.36              22.03  18.1  0.030 -1.00   7.98    7.56  0.786   7.0\n",
       "..       ...                ...   ...    ...   ...    ...     ...    ...   ...\n",
       "179     0.00              10.37   3.0  0.005  0.98  14.64  162.00  0.469   7.6\n",
       "180     0.00              14.24   4.0  0.005  0.76  13.65    0.71  0.697   5.0\n",
       "181     0.02              19.74   3.0  0.005  0.37  13.57    0.71  0.633   2.7\n",
       "182     0.04              12.85  40.0  0.034 -0.23   8.30   10.14  0.738   0.5\n",
       "183     0.00              27.18   6.0  0.005 -0.93  10.12    2.02  0.608   8.4\n",
       "\n",
       "[184 rows x 9 columns]"
      ]
     },
     "execution_count": 34,
     "metadata": {},
     "output_type": "execute_result"
    }
   ],
   "source": [
    "df_geo = df_sp.merge(df_g,on = 'Date',how = 'inner').drop(['Date'],axis=1)\n",
    "df_mc = df_sp.merge(df_m,on = 'Date',how = 'inner').drop(['Date'],axis=1)\n",
    "df_cyano = df_sp.merge(df_c,on = 'Date',how = 'inner').drop(['Date'],axis=1)\n",
    "df_geo"
   ]
  },
  {
   "cell_type": "markdown",
   "metadata": {},
   "source": [
    "## Predict the missing data\n",
    "Predicts states of all the missing variables."
   ]
  },
  {
   "cell_type": "markdown",
   "metadata": {},
   "source": [
    "## Split the data into training/test set\n",
    "75% of the response variable data were used in training. The data was selected at random."
   ]
  },
  {
   "cell_type": "code",
   "execution_count": 35,
   "metadata": {},
   "outputs": [
    {
     "data": {
      "text/html": [
       "<div>\n",
       "<style scoped>\n",
       "    .dataframe tbody tr th:only-of-type {\n",
       "        vertical-align: middle;\n",
       "    }\n",
       "\n",
       "    .dataframe tbody tr th {\n",
       "        vertical-align: top;\n",
       "    }\n",
       "\n",
       "    .dataframe thead th {\n",
       "        text-align: right;\n",
       "    }\n",
       "</style>\n",
       "<table border=\"1\" class=\"dataframe\">\n",
       "  <thead>\n",
       "    <tr style=\"text-align: right;\">\n",
       "      <th></th>\n",
       "      <th>PRECTOT</th>\n",
       "      <th>ALLSKY_SFC_SW_DWN</th>\n",
       "      <th>Temp</th>\n",
       "      <th>sin</th>\n",
       "      <th>DO</th>\n",
       "      <th>Chl-a</th>\n",
       "      <th>TP</th>\n",
       "      <th>Fe</th>\n",
       "      <th>MC</th>\n",
       "    </tr>\n",
       "  </thead>\n",
       "  <tbody>\n",
       "    <tr>\n",
       "      <th>128</th>\n",
       "      <td>0.00</td>\n",
       "      <td>14.02</td>\n",
       "      <td>13.0</td>\n",
       "      <td>-0.86</td>\n",
       "      <td>9.19</td>\n",
       "      <td>8.4</td>\n",
       "      <td>0.220</td>\n",
       "      <td>1370.0</td>\n",
       "      <td>0.14</td>\n",
       "    </tr>\n",
       "    <tr>\n",
       "      <th>167</th>\n",
       "      <td>0.00</td>\n",
       "      <td>16.81</td>\n",
       "      <td>20.7</td>\n",
       "      <td>-0.97</td>\n",
       "      <td>7.96</td>\n",
       "      <td>20.7</td>\n",
       "      <td>0.080</td>\n",
       "      <td>600.0</td>\n",
       "      <td>0.43</td>\n",
       "    </tr>\n",
       "    <tr>\n",
       "      <th>158</th>\n",
       "      <td>0.00</td>\n",
       "      <td>10.56</td>\n",
       "      <td>0.3</td>\n",
       "      <td>-0.32</td>\n",
       "      <td>13.29</td>\n",
       "      <td>3.3</td>\n",
       "      <td>0.060</td>\n",
       "      <td>760.0</td>\n",
       "      <td>0.05</td>\n",
       "    </tr>\n",
       "    <tr>\n",
       "      <th>62</th>\n",
       "      <td>0.29</td>\n",
       "      <td>12.10</td>\n",
       "      <td>24.6</td>\n",
       "      <td>-0.74</td>\n",
       "      <td>5.36</td>\n",
       "      <td>7.2</td>\n",
       "      <td>0.110</td>\n",
       "      <td>730.0</td>\n",
       "      <td>0.19</td>\n",
       "    </tr>\n",
       "    <tr>\n",
       "      <th>58</th>\n",
       "      <td>5.97</td>\n",
       "      <td>28.66</td>\n",
       "      <td>23.5</td>\n",
       "      <td>0.21</td>\n",
       "      <td>6.01</td>\n",
       "      <td>6.5</td>\n",
       "      <td>0.080</td>\n",
       "      <td>1270.0</td>\n",
       "      <td>0.10</td>\n",
       "    </tr>\n",
       "    <tr>\n",
       "      <th>...</th>\n",
       "      <td>...</td>\n",
       "      <td>...</td>\n",
       "      <td>...</td>\n",
       "      <td>...</td>\n",
       "      <td>...</td>\n",
       "      <td>...</td>\n",
       "      <td>...</td>\n",
       "      <td>...</td>\n",
       "      <td>...</td>\n",
       "    </tr>\n",
       "    <tr>\n",
       "      <th>143</th>\n",
       "      <td>0.00</td>\n",
       "      <td>11.01</td>\n",
       "      <td>1.0</td>\n",
       "      <td>0.26</td>\n",
       "      <td>13.24</td>\n",
       "      <td>6.1</td>\n",
       "      <td>0.015</td>\n",
       "      <td>160.0</td>\n",
       "      <td>0.05</td>\n",
       "    </tr>\n",
       "    <tr>\n",
       "      <th>36</th>\n",
       "      <td>0.10</td>\n",
       "      <td>12.20</td>\n",
       "      <td>11.3</td>\n",
       "      <td>0.99</td>\n",
       "      <td>10.63</td>\n",
       "      <td>18.4</td>\n",
       "      <td>0.120</td>\n",
       "      <td>690.0</td>\n",
       "      <td>0.05</td>\n",
       "    </tr>\n",
       "    <tr>\n",
       "      <th>164</th>\n",
       "      <td>28.77</td>\n",
       "      <td>27.63</td>\n",
       "      <td>25.0</td>\n",
       "      <td>-0.15</td>\n",
       "      <td>4.97</td>\n",
       "      <td>8.4</td>\n",
       "      <td>0.110</td>\n",
       "      <td>650.0</td>\n",
       "      <td>0.27</td>\n",
       "    </tr>\n",
       "    <tr>\n",
       "      <th>3</th>\n",
       "      <td>3.01</td>\n",
       "      <td>25.56</td>\n",
       "      <td>27.9</td>\n",
       "      <td>-0.44</td>\n",
       "      <td>10.15</td>\n",
       "      <td>14.7</td>\n",
       "      <td>0.130</td>\n",
       "      <td>732.5</td>\n",
       "      <td>0.05</td>\n",
       "    </tr>\n",
       "    <tr>\n",
       "      <th>25</th>\n",
       "      <td>0.41</td>\n",
       "      <td>25.02</td>\n",
       "      <td>25.0</td>\n",
       "      <td>0.06</td>\n",
       "      <td>6.81</td>\n",
       "      <td>12.2</td>\n",
       "      <td>0.070</td>\n",
       "      <td>500.0</td>\n",
       "      <td>0.21</td>\n",
       "    </tr>\n",
       "  </tbody>\n",
       "</table>\n",
       "<p>132 rows × 9 columns</p>\n",
       "</div>"
      ],
      "text/plain": [
       "     PRECTOT  ALLSKY_SFC_SW_DWN  Temp   sin     DO  Chl-a     TP      Fe    MC\n",
       "128     0.00              14.02  13.0 -0.86   9.19    8.4  0.220  1370.0  0.14\n",
       "167     0.00              16.81  20.7 -0.97   7.96   20.7  0.080   600.0  0.43\n",
       "158     0.00              10.56   0.3 -0.32  13.29    3.3  0.060   760.0  0.05\n",
       "62      0.29              12.10  24.6 -0.74   5.36    7.2  0.110   730.0  0.19\n",
       "58      5.97              28.66  23.5  0.21   6.01    6.5  0.080  1270.0  0.10\n",
       "..       ...                ...   ...   ...    ...    ...    ...     ...   ...\n",
       "143     0.00              11.01   1.0  0.26  13.24    6.1  0.015   160.0  0.05\n",
       "36      0.10              12.20  11.3  0.99  10.63   18.4  0.120   690.0  0.05\n",
       "164    28.77              27.63  25.0 -0.15   4.97    8.4  0.110   650.0  0.27\n",
       "3       3.01              25.56  27.9 -0.44  10.15   14.7  0.130   732.5  0.05\n",
       "25      0.41              25.02  25.0  0.06   6.81   12.2  0.070   500.0  0.21\n",
       "\n",
       "[132 rows x 9 columns]"
      ]
     },
     "execution_count": 35,
     "metadata": {},
     "output_type": "execute_result"
    }
   ],
   "source": [
    "y_geo = df_g.loc[:, 'Geo']\n",
    "x_geo = df_geo.loc[:, 'PRECTOT':'TKN']\n",
    "y_mc = df_m.loc[:, 'MC']\n",
    "x_mc = df_mc.loc[:, 'PRECTOT':'Fe']\n",
    "y_cyano = df_c.loc[:, 'Cyano']\n",
    "x_cyano = df_cyano.loc[:, 'PRECTOT':'Temp']\n",
    "x_geo_train, x_geo_test, y_geo_train, y_geo_test = train_test_split(x_geo, y_geo, train_size=0.75)\n",
    "x_mc_train, x_mc_test, y_mc_train, y_mc_test = train_test_split(x_mc, y_mc, train_size=0.75)\n",
    "x_cyano_train, x_cyano_test, y_cyano_train, y_cyano_test = train_test_split(x_cyano, y_cyano, train_size=0.75)\n",
    "geo_train = pd.concat([x_geo_train, y_geo_train], axis = 1)\n",
    "mc_train = pd.concat([x_mc_train, y_mc_train], axis = 1)\n",
    "cyano_train = pd.concat([x_cyano_train, y_cyano_train], axis = 1)\n",
    "mc_train"
   ]
  },
  {
   "cell_type": "markdown",
   "metadata": {},
   "source": [
    "## Structure learning\n",
    "- Score based structure learning using BDeu, K2 and BIC. It computes a score to measure how well the given Bayesian model fits to the data set\n",
    "- Searching methods include Exhaustive Search(Searches all possible graph with a given set of nodes) and Hill Climb Search(Starts at model start_dag and proceeds by step-by-step network modifications until a local maximum is reached) according to the scorng method supplied.\n",
    "\n",
    "Given n nodes, 2^(n*(n-1)) graphs need to be searched in Exhaustive Search. It is likely not feasible for n>6. "
   ]
  },
  {
   "cell_type": "code",
   "execution_count": 36,
   "metadata": {},
   "outputs": [],
   "source": [
    "#Ramdon sample 20% rows\n",
    "df_mc_sl = df_mc.sample(frac=0.2)\n",
    "df_geo_sl = df_geo.sample(frac=0.2)\n",
    "df_cyano_sl = df_cyano.sample(frac=0.2)"
   ]
  },
  {
   "cell_type": "code",
   "execution_count": 37,
   "metadata": {},
   "outputs": [
    {
     "name": "stderr",
     "output_type": "stream",
     "text": [
      "  0%|          | 12/1000000 [00:01<44:44:22,  6.21it/s]\n",
      "  0%|          | 0/1000000 [00:00<?, ?it/s]"
     ]
    },
    {
     "name": "stdout",
     "output_type": "stream",
     "text": [
      "[('PRECTOT', 'TP'), ('PRECTOT', 'Chl-a'), ('ALLSKY_SFC_SW_DWN', 'DO'), ('ALLSKY_SFC_SW_DWN', 'Fe'), ('Temp', 'ALLSKY_SFC_SW_DWN'), ('sin', 'Temp'), ('sin', 'ALLSKY_SFC_SW_DWN'), ('Chl-a', 'sin'), ('TP', 'Chl-a'), ('TP', 'sin'), ('TP', 'Temp'), ('MC', 'Chl-a')]\n"
     ]
    },
    {
     "name": "stderr",
     "output_type": "stream",
     "text": [
      "  0%|          | 14/1000000 [00:06<132:13:32,  2.10it/s]\n",
      "  0%|          | 0/1000000 [00:00<?, ?it/s]"
     ]
    },
    {
     "name": "stdout",
     "output_type": "stream",
     "text": [
      "[('PRECTOT', 'SSC'), ('PRECTOT', 'NO'), ('ALLSKY_SFC_SW_DWN', 'DO'), ('SSC', 'NO'), ('SSC', 'cos'), ('SSC', 'TKN'), ('NO', 'cos'), ('NO', 'Si'), ('cos', 'TKN'), ('Si', 'ALLSKY_SFC_SW_DWN'), ('TKN', 'Si'), ('TKN', 'ALLSKY_SFC_SW_DWN'), ('Geo', 'SSC'), ('Geo', 'cos')]\n"
     ]
    },
    {
     "name": "stderr",
     "output_type": "stream",
     "text": [
      "  0%|          | 14/1000000 [00:08<159:47:06,  1.74it/s]"
     ]
    },
    {
     "name": "stdout",
     "output_type": "stream",
     "text": [
      "[('PRECTOT', 'DP'), ('PRECTOT', 'sin'), ('PRECTOT', 'Temp'), ('ALLSKY_SFC_SW_DWN', 'Chl-a'), ('sin', 'TKN'), ('TKN', 'ALLSKY_SFC_SW_DWN'), ('TKN', 'Cyano'), ('DP', 'sin'), ('DP', 'Si'), ('DP', 'Temp'), ('Si', 'TKN'), ('Temp', 'Si'), ('Temp', 'sin')]\n"
     ]
    },
    {
     "name": "stderr",
     "output_type": "stream",
     "text": [
      "\n"
     ]
    }
   ],
   "source": [
    "#Use BIC scoring method and HillClimbSearch for microcystin, cyanobacteria abundance and geosmin model\n",
    "hc_mc = HillClimbSearch(df_mc_sl, scoring_method=BicScore(df_mc))\n",
    "best_model_mc = hc_mc.estimate()\n",
    "print(best_model_mc.edges())\n",
    "hc_geo = HillClimbSearch(df_geo_sl, scoring_method=BicScore(df_geo))\n",
    "best_model_geo = hc_geo.estimate()\n",
    "print(best_model_geo.edges())\n",
    "hc_cyano = HillClimbSearch(df_cyano_sl, scoring_method=BicScore(df_cyano))\n",
    "best_model_cyano = hc_cyano.estimate()\n",
    "print(best_model_cyano.edges())"
   ]
  },
  {
   "cell_type": "markdown",
   "metadata": {},
   "source": [
    "## Define the Bayesian model"
   ]
  },
  {
   "cell_type": "code",
   "execution_count": 38,
   "metadata": {},
   "outputs": [
    {
     "name": "stdout",
     "output_type": "stream",
     "text": [
      "['PRECTOT', 'TP', 'Fe', 'ALLSKY_SFC_SW_DWN', 'DO', 'Temp', 'Chl-a', 'sin', 'MC']\n",
      "['PRECTOT', 'NO', 'cos', 'ALLSKY_SFC_SW_DWN', 'DO', 'Geo', 'SSC', 'TKN', 'Si']\n",
      "['PRECTOT', 'DP', 'Cyano', 'ALLSKY_SFC_SW_DWN', 'Chl-a', 'Si', 'Temp', 'sin', 'TKN']\n"
     ]
    }
   ],
   "source": [
    "mc_model = BayesianModel([('PRECTOT', 'TP'), ('PRECTOT', 'Fe'), ('ALLSKY_SFC_SW_DWN', 'DO'), ('Temp', 'Chl-a'), ('Temp', 'ALLSKY_SFC_SW_DWN'), ('sin', 'Temp'), ('Chl-a', 'ALLSKY_SFC_SW_DWN'), ('TP', 'Temp'), ('Fe', 'sin'), ('Fe', 'Chl-a'), ('Fe', 'TP'), ('Fe', 'DO'), ('MC', 'TP'), ('MC', 'Fe')])\n",
    "geo_model = BayesianModel([('PRECTOT', 'NO'), ('PRECTOT', 'cos'), ('ALLSKY_SFC_SW_DWN', 'DO'), ('ALLSKY_SFC_SW_DWN', 'Geo'), ('SSC', 'cos'), ('NO', 'cos'), ('NO', 'SSC'), ('NO', 'TKN'), ('cos', 'TKN'), ('cos', 'ALLSKY_SFC_SW_DWN'), ('DO', 'Si'), ('TKN', 'ALLSKY_SFC_SW_DWN')]\n",
    ")\n",
    "cyano_model = BayesianModel(\n",
    "[('PRECTOT', 'DP'), ('PRECTOT', 'Cyano'), ('ALLSKY_SFC_SW_DWN', 'Chl-a'), ('ALLSKY_SFC_SW_DWN', 'Si'), ('Chl-a', 'Temp'), ('Chl-a', 'sin'), ('TKN', 'ALLSKY_SFC_SW_DWN'), ('DP', 'Cyano'), ('DP', 'TKN'), ('Cyano', 'TKN'), ('Cyano', 'ALLSKY_SFC_SW_DWN')]\n",
    ")\n",
    "print(mc_model.nodes())\n",
    "print(geo_model.nodes())\n",
    "print(cyano_model.nodes())"
   ]
  },
  {
   "cell_type": "markdown",
   "metadata": {},
   "source": [
    "## Directed graph visualization\n",
    "- Microcystin:<br>\n",
    "![image](mc_directed_graph.png)\n",
    "- Geosmin:<br>\n",
    "![image](geo_directed_graph.png)\n",
    "- Cyanobacteria:<br>\n",
    "![image](cyano_directed_graph.png)"
   ]
  },
  {
   "cell_type": "markdown",
   "metadata": {},
   "source": [
    "## Parameter learning\n",
    "- Maximum Likelihood Estimator(usually has the problem of overfitting to the data)\n",
    "- Bayesian Estimator(starts with already existing prior conditional probability distributions(CPDs), that express our beliefs about the variables before the data was observed)"
   ]
  },
  {
   "cell_type": "code",
   "execution_count": 40,
   "metadata": {},
   "outputs": [],
   "source": [
    "mc_model_est = MaximumLikelihoodEstimator(mc_model, df_mc_sl)\n",
    "geo_model_est = MaximumLikelihoodEstimator(geo_model, df_geo_sl)\n",
    "cyano_model_est = MaximumLikelihoodEstimator(cyano_model, df_cyano_sl)"
   ]
  },
  {
   "cell_type": "markdown",
   "metadata": {},
   "source": [
    "## Max-Sum algorithm for MAP inference"
   ]
  },
  {
   "cell_type": "code",
   "execution_count": null,
   "metadata": {},
   "outputs": [],
   "source": []
  },
  {
   "cell_type": "markdown",
   "metadata": {},
   "source": [
    "## Model Validation"
   ]
  },
  {
   "cell_type": "code",
   "execution_count": null,
   "metadata": {},
   "outputs": [],
   "source": []
  }
 ],
 "metadata": {
  "kernelspec": {
   "display_name": "Python 3",
   "language": "python",
   "name": "python3"
  },
  "language_info": {
   "codemirror_mode": {
    "name": "ipython",
    "version": 3
   },
   "file_extension": ".py",
   "mimetype": "text/x-python",
   "name": "python",
   "nbconvert_exporter": "python",
   "pygments_lexer": "ipython3",
   "version": "3.8.3"
  }
 },
 "nbformat": 4,
 "nbformat_minor": 4
}
