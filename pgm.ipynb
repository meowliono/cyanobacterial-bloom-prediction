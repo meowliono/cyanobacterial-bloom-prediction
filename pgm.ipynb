{
 "cells": [
  {
   "cell_type": "code",
   "execution_count": 2,
   "metadata": {},
   "outputs": [],
   "source": [
    "import numpy as np\n",
    "import pandas as pd\n",
    "from sklearn.model_selection import train_test_split\n",
    "from pgmpy.estimators import BDeuScore, K2Score, BicScore, ExhaustiveSearch, HillClimbSearch, BayesianEstimator, MaximumLikelihoodEstimator\n",
    "from pgmpy.models import BayesianModel\n",
    "from pgmpy.inference import BeliefPropagation"
   ]
  },
  {
   "cell_type": "markdown",
   "metadata": {},
   "source": [
    "## Data import and variable selection\n",
    "- Import geosmin, microcystin and cyanobacteria abundance datasets\n",
    "- Select columns according to importance ranking<br>\n",
    "Geosmin:<br>\n",
    "![image](var_geo.gif)<br>\n",
    "Cyanobacteria:<br>\n",
    "![image](var_cyano.gif)<br>\n",
    "Microcystin:<br>\n",
    "![image](var_mc.gif)<br>"
   ]
  },
  {
   "cell_type": "code",
   "execution_count": 12,
   "metadata": {},
   "outputs": [],
   "source": [
    "\n",
    "df_g = pd.read_csv(\"geosmin.csv\")[['Date','SSC','NO','cos','DO','Si','TKN','Geo']]\n",
    "df_m = pd.read_csv(\"microcystin.csv\")[['Date','Temp','sin','DO','TP','Fe','MC']]\n",
    "df_c = pd.read_csv(\"cyanobacteria_abundance.csv\")[['Date','DO','TKN','DP','Turb','Temp','Cyano']]\n",
    "df_sp = pd.read_csv(\"solar&prec.csv\").drop([\"LAT\",\"LON\",\"YEAR\",\"MO\",\"DY\"], axis=1)"
   ]
  },
  {
   "cell_type": "markdown",
   "metadata": {},
   "source": [
    "## Data merge"
   ]
  },
  {
   "cell_type": "code",
   "execution_count": 13,
   "metadata": {},
   "outputs": [
    {
     "data": {
      "text/html": [
       "<div>\n",
       "<style scoped>\n",
       "    .dataframe tbody tr th:only-of-type {\n",
       "        vertical-align: middle;\n",
       "    }\n",
       "\n",
       "    .dataframe tbody tr th {\n",
       "        vertical-align: top;\n",
       "    }\n",
       "\n",
       "    .dataframe thead th {\n",
       "        text-align: right;\n",
       "    }\n",
       "</style>\n",
       "<table border=\"1\" class=\"dataframe\">\n",
       "  <thead>\n",
       "    <tr style=\"text-align: right;\">\n",
       "      <th></th>\n",
       "      <th>PRECTOT</th>\n",
       "      <th>ALLSKY_SFC_SW_DWN</th>\n",
       "      <th>SSC</th>\n",
       "      <th>NO</th>\n",
       "      <th>cos</th>\n",
       "      <th>DO</th>\n",
       "      <th>Si</th>\n",
       "      <th>TKN</th>\n",
       "      <th>Geo</th>\n",
       "    </tr>\n",
       "  </thead>\n",
       "  <tbody>\n",
       "    <tr>\n",
       "      <th>0</th>\n",
       "      <td>0.00</td>\n",
       "      <td>22.07</td>\n",
       "      <td>12.8</td>\n",
       "      <td>0.030</td>\n",
       "      <td>-0.81</td>\n",
       "      <td>5.91</td>\n",
       "      <td>1.44</td>\n",
       "      <td>0.590</td>\n",
       "      <td>3.7</td>\n",
       "    </tr>\n",
       "    <tr>\n",
       "      <th>1</th>\n",
       "      <td>0.02</td>\n",
       "      <td>22.86</td>\n",
       "      <td>10.9</td>\n",
       "      <td>0.070</td>\n",
       "      <td>-0.44</td>\n",
       "      <td>6.70</td>\n",
       "      <td>7.04</td>\n",
       "      <td>0.556</td>\n",
       "      <td>4.8</td>\n",
       "    </tr>\n",
       "    <tr>\n",
       "      <th>2</th>\n",
       "      <td>0.18</td>\n",
       "      <td>13.21</td>\n",
       "      <td>3.8</td>\n",
       "      <td>0.010</td>\n",
       "      <td>0.76</td>\n",
       "      <td>14.42</td>\n",
       "      <td>8.55</td>\n",
       "      <td>0.556</td>\n",
       "      <td>22.0</td>\n",
       "    </tr>\n",
       "    <tr>\n",
       "      <th>3</th>\n",
       "      <td>0.96</td>\n",
       "      <td>15.84</td>\n",
       "      <td>2.6</td>\n",
       "      <td>0.170</td>\n",
       "      <td>-0.98</td>\n",
       "      <td>6.16</td>\n",
       "      <td>5.95</td>\n",
       "      <td>0.619</td>\n",
       "      <td>63.0</td>\n",
       "    </tr>\n",
       "    <tr>\n",
       "      <th>4</th>\n",
       "      <td>0.36</td>\n",
       "      <td>22.03</td>\n",
       "      <td>18.1</td>\n",
       "      <td>0.030</td>\n",
       "      <td>-1.00</td>\n",
       "      <td>7.98</td>\n",
       "      <td>7.56</td>\n",
       "      <td>0.786</td>\n",
       "      <td>7.0</td>\n",
       "    </tr>\n",
       "    <tr>\n",
       "      <th>...</th>\n",
       "      <td>...</td>\n",
       "      <td>...</td>\n",
       "      <td>...</td>\n",
       "      <td>...</td>\n",
       "      <td>...</td>\n",
       "      <td>...</td>\n",
       "      <td>...</td>\n",
       "      <td>...</td>\n",
       "      <td>...</td>\n",
       "    </tr>\n",
       "    <tr>\n",
       "      <th>179</th>\n",
       "      <td>0.00</td>\n",
       "      <td>10.37</td>\n",
       "      <td>3.0</td>\n",
       "      <td>0.005</td>\n",
       "      <td>0.98</td>\n",
       "      <td>14.64</td>\n",
       "      <td>162.00</td>\n",
       "      <td>0.469</td>\n",
       "      <td>7.6</td>\n",
       "    </tr>\n",
       "    <tr>\n",
       "      <th>180</th>\n",
       "      <td>0.00</td>\n",
       "      <td>14.24</td>\n",
       "      <td>4.0</td>\n",
       "      <td>0.005</td>\n",
       "      <td>0.76</td>\n",
       "      <td>13.65</td>\n",
       "      <td>0.71</td>\n",
       "      <td>0.697</td>\n",
       "      <td>5.0</td>\n",
       "    </tr>\n",
       "    <tr>\n",
       "      <th>181</th>\n",
       "      <td>0.02</td>\n",
       "      <td>19.74</td>\n",
       "      <td>3.0</td>\n",
       "      <td>0.005</td>\n",
       "      <td>0.37</td>\n",
       "      <td>13.57</td>\n",
       "      <td>0.71</td>\n",
       "      <td>0.633</td>\n",
       "      <td>2.7</td>\n",
       "    </tr>\n",
       "    <tr>\n",
       "      <th>182</th>\n",
       "      <td>0.04</td>\n",
       "      <td>12.85</td>\n",
       "      <td>40.0</td>\n",
       "      <td>0.034</td>\n",
       "      <td>-0.23</td>\n",
       "      <td>8.30</td>\n",
       "      <td>10.14</td>\n",
       "      <td>0.738</td>\n",
       "      <td>0.5</td>\n",
       "    </tr>\n",
       "    <tr>\n",
       "      <th>183</th>\n",
       "      <td>0.00</td>\n",
       "      <td>27.18</td>\n",
       "      <td>6.0</td>\n",
       "      <td>0.005</td>\n",
       "      <td>-0.93</td>\n",
       "      <td>10.12</td>\n",
       "      <td>2.02</td>\n",
       "      <td>0.608</td>\n",
       "      <td>8.4</td>\n",
       "    </tr>\n",
       "  </tbody>\n",
       "</table>\n",
       "<p>184 rows × 9 columns</p>\n",
       "</div>"
      ],
      "text/plain": [
       "     PRECTOT  ALLSKY_SFC_SW_DWN   SSC     NO   cos     DO      Si    TKN   Geo\n",
       "0       0.00              22.07  12.8  0.030 -0.81   5.91    1.44  0.590   3.7\n",
       "1       0.02              22.86  10.9  0.070 -0.44   6.70    7.04  0.556   4.8\n",
       "2       0.18              13.21   3.8  0.010  0.76  14.42    8.55  0.556  22.0\n",
       "3       0.96              15.84   2.6  0.170 -0.98   6.16    5.95  0.619  63.0\n",
       "4       0.36              22.03  18.1  0.030 -1.00   7.98    7.56  0.786   7.0\n",
       "..       ...                ...   ...    ...   ...    ...     ...    ...   ...\n",
       "179     0.00              10.37   3.0  0.005  0.98  14.64  162.00  0.469   7.6\n",
       "180     0.00              14.24   4.0  0.005  0.76  13.65    0.71  0.697   5.0\n",
       "181     0.02              19.74   3.0  0.005  0.37  13.57    0.71  0.633   2.7\n",
       "182     0.04              12.85  40.0  0.034 -0.23   8.30   10.14  0.738   0.5\n",
       "183     0.00              27.18   6.0  0.005 -0.93  10.12    2.02  0.608   8.4\n",
       "\n",
       "[184 rows x 9 columns]"
      ]
     },
     "execution_count": 13,
     "metadata": {},
     "output_type": "execute_result"
    }
   ],
   "source": [
    "df_geo = df_sp.merge(df_g,on = 'Date',how = 'inner').drop(['Date'],axis=1)\n",
    "df_mc = df_sp.merge(df_m,on = 'Date',how = 'inner').drop(['Date'],axis=1)\n",
    "df_cyano = df_sp.merge(df_c,on = 'Date',how = 'inner').drop(['Date'],axis=1)\n",
    "df_geo"
   ]
  },
  {
   "cell_type": "markdown",
   "metadata": {},
   "source": [
    "## Predict the missing data\n",
    "Predicts states of all the missing variables."
   ]
  },
  {
   "cell_type": "markdown",
   "metadata": {},
   "source": [
    "## Split the data into training/test set\n",
    "75% of the response variable data were used in training. The data was selected at random."
   ]
  },
  {
   "cell_type": "code",
   "execution_count": 14,
   "metadata": {},
   "outputs": [],
   "source": [
    "y_geo = df_g.loc[:, 'Geo']\n",
    "x_geo = df_geo.loc[:, 'PRECTOT':'TKN']\n",
    "y_mc = df_m.loc[:, 'MC']\n",
    "x_mc = df_mc.loc[:, 'PRECTOT':'Fe']\n",
    "y_cyano = df_c.loc[:, 'Cyano']\n",
    "x_cyano = df_cyano.loc[:, 'PRECTOT':'Temp']\n",
    "x_geo_train, x_geo_test, y_geo_train, y_geo_test = train_test_split(x_geo, y_geo, train_size=0.75)\n",
    "x_mc_train, x_mc_test, y_mc_train, y_mc_test = train_test_split(x_mc, y_mc, train_size=0.75)\n",
    "x_cyano_train, x_cyano_test, y_cyano_train, y_cyano_test = train_test_split(x_cyano, y_cyano, train_size=0.75)\n",
    "geo_train = pd.concat([x_geo_train, y_geo_train], axis = 1).reset_index()\n",
    "mc_train = pd.concat([x_mc_train, y_mc_train], axis = 1).reset_index()\n",
    "cyano_train = pd.concat([x_cyano_test, y_cyano_test], axis = 1).reset_index()\n",
    "geo_test = pd.concat([x_geo_test, y_geo_test], axis = 1).reset_index()\n",
    "mc_test = pd.concat([x_mc_test, y_mc_test], axis = 1).reset_index()\n",
    "cyano_test = pd.concat([x_cyano_test, y_cyano_test], axis = 1).reset_index()\n",
    "del geo_train['index']\n",
    "del mc_train['index']\n",
    "del cyano_train['index']\n",
    "del geo_test['index']\n",
    "del mc_test['index']\n",
    "del cyano_test['index']\n",
    "geo_train.to_csv('geo_train.csv')\n",
    "mc_train.to_csv('mc_train.csv')\n",
    "cyano_train.to_csv('cyano_train.csv')\n",
    "geo_test.to_csv('geo_test.csv')\n",
    "mc_test.to_csv('mc_test.csv')\n",
    "cyano_test.to_csv('cyano_test.csv')"
   ]
  },
  {
   "cell_type": "markdown",
   "metadata": {},
   "source": [
    "## Structure learning\n",
    "- Score based structure learning using BDeu, K2 and BIC. It computes a score to measure how well the given Bayesian model fits to the data set\n",
    "- Searching methods include Exhaustive Search(Searches all possible graph with a given set of nodes) and Hill Climb Search(Starts at model start_dag and proceeds by step-by-step network modifications until a local maximum is reached) according to the scorng method supplied.\n",
    "\n",
    "Given n nodes, 2^(n*(n-1)) graphs need to be searched in Exhaustive Search. It is likely not feasible for n>6. "
   ]
  },
  {
   "cell_type": "code",
   "execution_count": 36,
   "metadata": {},
   "outputs": [],
   "source": [
    "#Ramdon sample 20% rows\n",
    "df_mc_sl = df_mc.sample(frac=0.2)\n",
    "df_geo_sl = df_geo.sample(frac=0.2)\n",
    "df_cyano_sl = df_cyano.sample(frac=0.2)"
   ]
  },
  {
   "cell_type": "code",
   "execution_count": 37,
   "metadata": {},
   "outputs": [
    {
     "name": "stderr",
     "output_type": "stream",
     "text": [
      "  0%|          | 12/1000000 [00:01<44:44:22,  6.21it/s]\n",
      "  0%|          | 0/1000000 [00:00<?, ?it/s]"
     ]
    },
    {
     "name": "stdout",
     "output_type": "stream",
     "text": [
      "[('PRECTOT', 'TP'), ('PRECTOT', 'Chl-a'), ('ALLSKY_SFC_SW_DWN', 'DO'), ('ALLSKY_SFC_SW_DWN', 'Fe'), ('Temp', 'ALLSKY_SFC_SW_DWN'), ('sin', 'Temp'), ('sin', 'ALLSKY_SFC_SW_DWN'), ('Chl-a', 'sin'), ('TP', 'Chl-a'), ('TP', 'sin'), ('TP', 'Temp'), ('MC', 'Chl-a')]\n"
     ]
    },
    {
     "name": "stderr",
     "output_type": "stream",
     "text": [
      "  0%|          | 14/1000000 [00:06<132:13:32,  2.10it/s]\n",
      "  0%|          | 0/1000000 [00:00<?, ?it/s]"
     ]
    },
    {
     "name": "stdout",
     "output_type": "stream",
     "text": [
      "[('PRECTOT', 'SSC'), ('PRECTOT', 'NO'), ('ALLSKY_SFC_SW_DWN', 'DO'), ('SSC', 'NO'), ('SSC', 'cos'), ('SSC', 'TKN'), ('NO', 'cos'), ('NO', 'Si'), ('cos', 'TKN'), ('Si', 'ALLSKY_SFC_SW_DWN'), ('TKN', 'Si'), ('TKN', 'ALLSKY_SFC_SW_DWN'), ('Geo', 'SSC'), ('Geo', 'cos')]\n"
     ]
    },
    {
     "name": "stderr",
     "output_type": "stream",
     "text": [
      "  0%|          | 14/1000000 [00:08<159:47:06,  1.74it/s]"
     ]
    },
    {
     "name": "stdout",
     "output_type": "stream",
     "text": [
      "[('PRECTOT', 'DP'), ('PRECTOT', 'sin'), ('PRECTOT', 'Temp'), ('ALLSKY_SFC_SW_DWN', 'Chl-a'), ('sin', 'TKN'), ('TKN', 'ALLSKY_SFC_SW_DWN'), ('TKN', 'Cyano'), ('DP', 'sin'), ('DP', 'Si'), ('DP', 'Temp'), ('Si', 'TKN'), ('Temp', 'Si'), ('Temp', 'sin')]\n"
     ]
    },
    {
     "name": "stderr",
     "output_type": "stream",
     "text": [
      "\n"
     ]
    }
   ],
   "source": [
    "#Use BIC scoring method and HillClimbSearch for microcystin, cyanobacteria abundance and geosmin model\n",
    "hc_mc = HillClimbSearch(df_mc_sl, scoring_method=BicScore(df_mc))\n",
    "best_model_mc = hc_mc.estimate()\n",
    "print(best_model_mc.edges())\n",
    "hc_geo = HillClimbSearch(df_geo_sl, scoring_method=BicScore(df_geo))\n",
    "best_model_geo = hc_geo.estimate()\n",
    "print(best_model_geo.edges())\n",
    "hc_cyano = HillClimbSearch(df_cyano_sl, scoring_method=BicScore(df_cyano))\n",
    "best_model_cyano = hc_cyano.estimate()\n",
    "print(best_model_cyano.edges())"
   ]
  },
  {
   "cell_type": "markdown",
   "metadata": {},
   "source": [
    "## Define the Bayesian model"
   ]
  },
  {
   "cell_type": "code",
   "execution_count": 38,
   "metadata": {},
   "outputs": [
    {
     "name": "stdout",
     "output_type": "stream",
     "text": [
      "['PRECTOT', 'TP', 'Fe', 'ALLSKY_SFC_SW_DWN', 'DO', 'Temp', 'Chl-a', 'sin', 'MC']\n",
      "['PRECTOT', 'NO', 'cos', 'ALLSKY_SFC_SW_DWN', 'DO', 'Geo', 'SSC', 'TKN', 'Si']\n",
      "['PRECTOT', 'DP', 'Cyano', 'ALLSKY_SFC_SW_DWN', 'Chl-a', 'Si', 'Temp', 'sin', 'TKN']\n"
     ]
    }
   ],
   "source": [
    "mc_model = BayesianModel([('PRECTOT', 'TP'), ('PRECTOT', 'Fe'), ('ALLSKY_SFC_SW_DWN', 'DO'), ('Temp', 'Chl-a'), ('Temp', 'ALLSKY_SFC_SW_DWN'), ('sin', 'Temp'), ('Chl-a', 'ALLSKY_SFC_SW_DWN'), ('TP', 'Temp'), ('Fe', 'sin'), ('Fe', 'Chl-a'), ('Fe', 'TP'), ('Fe', 'DO'), ('MC', 'TP'), ('MC', 'Fe')])\n",
    "geo_model = BayesianModel([('PRECTOT', 'NO'), ('PRECTOT', 'cos'), ('ALLSKY_SFC_SW_DWN', 'DO'), ('ALLSKY_SFC_SW_DWN', 'Geo'), ('SSC', 'cos'), ('NO', 'cos'), ('NO', 'SSC'), ('NO', 'TKN'), ('cos', 'TKN'), ('cos', 'ALLSKY_SFC_SW_DWN'), ('DO', 'Si'), ('TKN', 'ALLSKY_SFC_SW_DWN')]\n",
    ")\n",
    "cyano_model = BayesianModel(\n",
    "[('PRECTOT', 'DP'), ('PRECTOT', 'Cyano'), ('ALLSKY_SFC_SW_DWN', 'Chl-a'), ('ALLSKY_SFC_SW_DWN', 'Si'), ('Chl-a', 'Temp'), ('Chl-a', 'sin'), ('TKN', 'ALLSKY_SFC_SW_DWN'), ('DP', 'Cyano'), ('DP', 'TKN'), ('Cyano', 'TKN'), ('Cyano', 'ALLSKY_SFC_SW_DWN')]\n",
    ")\n",
    "print(mc_model.nodes())\n",
    "print(geo_model.nodes())\n",
    "print(cyano_model.nodes())"
   ]
  },
  {
   "cell_type": "markdown",
   "metadata": {},
   "source": [
    "## Directed graph visualization\n",
    "- Microcystin:<br>\n",
    "![image](mc_directed_graph.png)\n",
    "- Geosmin:<br>\n",
    "![image](geo_directed_graph.png)\n",
    "- Cyanobacteria:<br>\n",
    "![image](cyano_directed_graph.png)"
   ]
  },
  {
   "cell_type": "markdown",
   "metadata": {},
   "source": [
    "## Parameter learning\n",
    "- Maximum Likelihood Estimator(usually has the problem of overfitting to the data)\n",
    "- Bayesian Estimator(starts with already existing prior conditional probability distributions(CPDs), that express our beliefs about the variables before the data was observed)"
   ]
  },
  {
   "cell_type": "code",
   "execution_count": 62,
   "metadata": {},
   "outputs": [],
   "source": [
    "#Nodes: ['PRECTOT', 'TP', 'Fe', 'ALLSKY_SFC_SW_DWN', 'DO', 'Temp', 'Chl-a', 'sin', 'MC']\n",
    "mc_model_est = MaximumLikelihoodEstimator(mc_model, df_mc_sl)\n",
    "cpd_mc_TP = mc_model_est.estimate_cpd('TP')\n",
    "cpd_mc_sin = mc_model_est.estimate_cpd('sin')\n",
    "cpd_mc_Fe = mc_model_est.estimate_cpd('Fe')\n",
    "cpd_mc_Temp = mc_model_est.estimate_cpd('Temp')\n",
    "cpd_mc_Solar = mc_model_est.estimate_cpd('ALLSKY_SFC_SW_DWN')\n",
    "cpd_mc_DO = mc_model_est.estimate_cpd('DO')\n",
    "cpd_mc_Precipitation= mc_model_est.estimate_cpd('PRECTOT')\n",
    "cpd_mc_chla = mc_model_est.estimate_cpd('Chl-a')\n",
    "cpd_mc = mc_model_est.estimate_cpd('MC')\n",
    "mc_model.add_cpds(cpd_mc_TP, cpd_mc_sin, cpd_mc_Fe, cpd_mc_Temp, cpd_mc_Solar, cpd_mc_DO, cpd_mc_Precipitation, cpd_mc_chla, cpd_mc)"
   ]
  },
  {
   "cell_type": "code",
   "execution_count": 63,
   "metadata": {},
   "outputs": [],
   "source": [
    "#Nodes: ['PRECTOT', 'NO', 'cos', 'ALLSKY_SFC_SW_DWN', 'DO', 'Geo', 'SSC', 'TKN', 'Si']\n",
    "geo_model_est = MaximumLikelihoodEstimator(geo_model, df_geo_sl)\n",
    "cpd_geo_TKN = geo_model_est.estimate_cpd('TKN')\n",
    "cpd_geo_cos = geo_model_est.estimate_cpd('cos')\n",
    "cpd_geo_Si = geo_model_est.estimate_cpd('Si')\n",
    "cpd_geo_NO = geo_model_est.estimate_cpd('NO')\n",
    "cpd_geo_Solar = geo_model_est.estimate_cpd('ALLSKY_SFC_SW_DWN')\n",
    "cpd_geo_DO = geo_model_est.estimate_cpd('DO')\n",
    "cpd_geo_Precipitation= geo_model_est.estimate_cpd('PRECTOT')\n",
    "cpd_geo_SSC = geo_model_est.estimate_cpd('SSC')\n",
    "cpd_geo = geo_model_est.estimate_cpd('Geo')\n",
    "geo_model.add_cpds(cpd_geo_TKN, cpd_geo_cos, cpd_geo_Si, cpd_geo_NO, cpd_geo_Solar, cpd_geo_DO, cpd_geo_Precipitation, cpd_geo_SSC, cpd_geo)"
   ]
  },
  {
   "cell_type": "code",
   "execution_count": 70,
   "metadata": {},
   "outputs": [
    {
     "name": "stderr",
     "output_type": "stream",
     "text": [
      "WARNING:root:Replacing existing CPD for TKN\n",
      "WARNING:root:Replacing existing CPD for sin\n",
      "WARNING:root:Replacing existing CPD for Si\n",
      "WARNING:root:Replacing existing CPD for Temp\n",
      "WARNING:root:Replacing existing CPD for ALLSKY_SFC_SW_DWN\n",
      "WARNING:root:Replacing existing CPD for DP\n",
      "WARNING:root:Replacing existing CPD for PRECTOT\n",
      "WARNING:root:Replacing existing CPD for Cyano\n"
     ]
    }
   ],
   "source": [
    "#Nodes: ['PRECTOT', 'DP', 'Cyano', 'ALLSKY_SFC_SW_DWN', 'Chl-a', 'Si', 'Temp', 'sin', 'TKN']\n",
    "cyano_model_est = MaximumLikelihoodEstimator(cyano_model, df_cyano_sl)\n",
    "cpd_cyano_TKN = cyano_model_est.estimate_cpd('TKN')\n",
    "cpd_cyano_sin = cyano_model_est.estimate_cpd('sin')\n",
    "cpd_cyano_Si = cyano_model_est.estimate_cpd('Si')\n",
    "cpd_cyano_Temp = cyano_model_est.estimate_cpd('Temp')\n",
    "cpd_cyano_Solar = cyano_model_est.estimate_cpd('ALLSKY_SFC_SW_DWN')\n",
    "cpd_cyano_DP = cyano_model_est.estimate_cpd('DP')\n",
    "cpd_cyano_Precipitation= cyano_model_est.estimate_cpd('PRECTOT')\n",
    "cpd_cyano_chla = cyano_model_est.estimate_cpd('Chl-a')\n",
    "cpd_Cyano = cyano_model_est.estimate_cpd('Cyano')\n",
    "cyano_model.add_cpds(cpd_cyano_TKN, cpd_cyano_sin, cpd_cyano_Si, cpd_cyano_Temp, cpd_cyano_Solar, cpd_cyano_DP, cpd_cyano_Precipitation, cpd_cyano_chla, cpd_Cyano)"
   ]
  },
  {
   "cell_type": "markdown",
   "metadata": {},
   "source": [
    "## Marginal probability distribution calculation\n",
    "- Variable Elimination\n",
    "- Belief Propagation"
   ]
  },
  {
   "cell_type": "code",
   "execution_count": 71,
   "metadata": {},
   "outputs": [],
   "source": [
    "mc_bp = BeliefPropagation(mc_model)\n",
    "geo_bp = BeliefPropagation(geo_model)\n",
    "cyano_bp = BeliefPropagation(cyano_model)"
   ]
  },
  {
   "cell_type": "markdown",
   "metadata": {},
   "source": [
    "## Model Validation\n",
    "- random selection in testing dataset\n",
    "- cross validation"
   ]
  },
  {
   "cell_type": "code",
   "execution_count": 85,
   "metadata": {},
   "outputs": [
    {
     "name": "stderr",
     "output_type": "stream",
     "text": [
      "/opt/anaconda3/lib/python3.8/site-packages/pgmpy/factors/discrete/DiscreteFactor.py:518: UserWarning: Found unknown state name. Trying to switch to using all state names as state numbers\n",
      "  warn(\n"
     ]
    },
    {
     "ename": "IndexError",
     "evalue": "only integers, slices (`:`), ellipsis (`...`), numpy.newaxis (`None`) and integer or boolean arrays are valid indices",
     "output_type": "error",
     "traceback": [
      "\u001b[0;31m---------------------------------------------------------------------------\u001b[0m",
      "\u001b[0;31mIndexError\u001b[0m                                Traceback (most recent call last)",
      "\u001b[0;32m<ipython-input-85-28a46491e2ad>\u001b[0m in \u001b[0;36m<module>\u001b[0;34m\u001b[0m\n\u001b[1;32m      1\u001b[0m \u001b[0;31m#random select a row in testing dataset\u001b[0m\u001b[0;34m\u001b[0m\u001b[0;34m\u001b[0m\u001b[0;34m\u001b[0m\u001b[0m\n\u001b[1;32m      2\u001b[0m \u001b[0mtest1\u001b[0m \u001b[0;34m=\u001b[0m \u001b[0mmc_test\u001b[0m\u001b[0;34m.\u001b[0m\u001b[0msample\u001b[0m\u001b[0;34m(\u001b[0m\u001b[0mn\u001b[0m\u001b[0;34m=\u001b[0m\u001b[0;36m1\u001b[0m\u001b[0;34m)\u001b[0m\u001b[0;34m\u001b[0m\u001b[0;34m\u001b[0m\u001b[0m\n\u001b[0;32m----> 3\u001b[0;31m mc_bp.map_query(variables=['MC'], evidence={'PRECTOT': 0.0, 'ALLSKY_SFC_SW_DWN': 26.09, 'Temp': 29.4,\n\u001b[0m\u001b[1;32m      4\u001b[0m                                           'DO':7.16, 'Chl-a':16.4, 'TP':0.23, 'Fe':870.0})\n",
      "\u001b[0;32m/opt/anaconda3/lib/python3.8/site-packages/pgmpy/inference/ExactInference.py\u001b[0m in \u001b[0;36mmap_query\u001b[0;34m(self, variables, evidence, show_progress)\u001b[0m\n\u001b[1;32m    948\u001b[0m             \u001b[0mvariables\u001b[0m \u001b[0;34m=\u001b[0m \u001b[0mset\u001b[0m\u001b[0;34m(\u001b[0m\u001b[0mself\u001b[0m\u001b[0;34m.\u001b[0m\u001b[0mvariables\u001b[0m\u001b[0;34m)\u001b[0m\u001b[0;34m\u001b[0m\u001b[0;34m\u001b[0m\u001b[0m\n\u001b[1;32m    949\u001b[0m \u001b[0;34m\u001b[0m\u001b[0m\n\u001b[0;32m--> 950\u001b[0;31m         final_distribution = self._query(\n\u001b[0m\u001b[1;32m    951\u001b[0m             \u001b[0mvariables\u001b[0m\u001b[0;34m=\u001b[0m\u001b[0mvariables\u001b[0m\u001b[0;34m,\u001b[0m\u001b[0;34m\u001b[0m\u001b[0;34m\u001b[0m\u001b[0m\n\u001b[1;32m    952\u001b[0m             \u001b[0moperation\u001b[0m\u001b[0;34m=\u001b[0m\u001b[0;34m\"marginalize\"\u001b[0m\u001b[0;34m,\u001b[0m\u001b[0;34m\u001b[0m\u001b[0;34m\u001b[0m\u001b[0m\n",
      "\u001b[0;32m/opt/anaconda3/lib/python3.8/site-packages/pgmpy/inference/ExactInference.py\u001b[0m in \u001b[0;36m_query\u001b[0;34m(self, variables, operation, evidence, joint, show_progress)\u001b[0m\n\u001b[1;32m    819\u001b[0m         \u001b[0mvariable_elimination\u001b[0m \u001b[0;34m=\u001b[0m \u001b[0mVariableElimination\u001b[0m\u001b[0;34m(\u001b[0m\u001b[0msubtree\u001b[0m\u001b[0;34m)\u001b[0m\u001b[0;34m\u001b[0m\u001b[0;34m\u001b[0m\u001b[0m\n\u001b[1;32m    820\u001b[0m         \u001b[0;32mif\u001b[0m \u001b[0moperation\u001b[0m \u001b[0;34m==\u001b[0m \u001b[0;34m\"marginalize\"\u001b[0m\u001b[0;34m:\u001b[0m\u001b[0;34m\u001b[0m\u001b[0;34m\u001b[0m\u001b[0m\n\u001b[0;32m--> 821\u001b[0;31m             return variable_elimination.query(\n\u001b[0m\u001b[1;32m    822\u001b[0m                 \u001b[0mvariables\u001b[0m\u001b[0;34m=\u001b[0m\u001b[0mvariables\u001b[0m\u001b[0;34m,\u001b[0m\u001b[0;34m\u001b[0m\u001b[0;34m\u001b[0m\u001b[0m\n\u001b[1;32m    823\u001b[0m                 \u001b[0mevidence\u001b[0m\u001b[0;34m=\u001b[0m\u001b[0mevidence\u001b[0m\u001b[0;34m,\u001b[0m\u001b[0;34m\u001b[0m\u001b[0;34m\u001b[0m\u001b[0m\n",
      "\u001b[0;32m/opt/anaconda3/lib/python3.8/site-packages/pgmpy/inference/ExactInference.py\u001b[0m in \u001b[0;36mquery\u001b[0;34m(self, variables, evidence, elimination_order, joint, show_progress)\u001b[0m\n\u001b[1;32m    255\u001b[0m             )\n\u001b[1;32m    256\u001b[0m \u001b[0;34m\u001b[0m\u001b[0m\n\u001b[0;32m--> 257\u001b[0;31m         return self._variable_elimination(\n\u001b[0m\u001b[1;32m    258\u001b[0m             \u001b[0mvariables\u001b[0m\u001b[0;34m=\u001b[0m\u001b[0mvariables\u001b[0m\u001b[0;34m,\u001b[0m\u001b[0;34m\u001b[0m\u001b[0;34m\u001b[0m\u001b[0m\n\u001b[1;32m    259\u001b[0m             \u001b[0moperation\u001b[0m\u001b[0;34m=\u001b[0m\u001b[0;34m\"marginalize\"\u001b[0m\u001b[0;34m,\u001b[0m\u001b[0;34m\u001b[0m\u001b[0;34m\u001b[0m\u001b[0m\n",
      "\u001b[0;32m/opt/anaconda3/lib/python3.8/site-packages/pgmpy/inference/ExactInference.py\u001b[0m in \u001b[0;36m_variable_elimination\u001b[0;34m(self, variables, operation, evidence, elimination_order, joint, show_progress)\u001b[0m\n\u001b[1;32m    158\u001b[0m         \u001b[0meliminated_variables\u001b[0m \u001b[0;34m=\u001b[0m \u001b[0mset\u001b[0m\u001b[0;34m(\u001b[0m\u001b[0;34m)\u001b[0m\u001b[0;34m\u001b[0m\u001b[0;34m\u001b[0m\u001b[0m\n\u001b[1;32m    159\u001b[0m         \u001b[0;31m# Get working factors and elimination order\u001b[0m\u001b[0;34m\u001b[0m\u001b[0;34m\u001b[0m\u001b[0;34m\u001b[0m\u001b[0m\n\u001b[0;32m--> 160\u001b[0;31m         \u001b[0mworking_factors\u001b[0m \u001b[0;34m=\u001b[0m \u001b[0mself\u001b[0m\u001b[0;34m.\u001b[0m\u001b[0m_get_working_factors\u001b[0m\u001b[0;34m(\u001b[0m\u001b[0mevidence\u001b[0m\u001b[0;34m)\u001b[0m\u001b[0;34m\u001b[0m\u001b[0;34m\u001b[0m\u001b[0m\n\u001b[0m\u001b[1;32m    161\u001b[0m         elimination_order = self._get_elimination_order(\n\u001b[1;32m    162\u001b[0m             \u001b[0mvariables\u001b[0m\u001b[0;34m,\u001b[0m \u001b[0mevidence\u001b[0m\u001b[0;34m,\u001b[0m \u001b[0melimination_order\u001b[0m\u001b[0;34m,\u001b[0m \u001b[0mshow_progress\u001b[0m\u001b[0;34m=\u001b[0m\u001b[0mshow_progress\u001b[0m\u001b[0;34m\u001b[0m\u001b[0;34m\u001b[0m\u001b[0m\n",
      "\u001b[0;32m/opt/anaconda3/lib/python3.8/site-packages/pgmpy/inference/ExactInference.py\u001b[0m in \u001b[0;36m_get_working_factors\u001b[0;34m(self, evidence)\u001b[0m\n\u001b[1;32m     44\u001b[0m             \u001b[0;32mfor\u001b[0m \u001b[0mevidence_var\u001b[0m \u001b[0;32min\u001b[0m \u001b[0mevidence\u001b[0m\u001b[0;34m:\u001b[0m\u001b[0;34m\u001b[0m\u001b[0;34m\u001b[0m\u001b[0m\n\u001b[1;32m     45\u001b[0m                 \u001b[0;32mfor\u001b[0m \u001b[0mfactor\u001b[0m\u001b[0;34m,\u001b[0m \u001b[0morigin\u001b[0m \u001b[0;32min\u001b[0m \u001b[0mworking_factors\u001b[0m\u001b[0;34m[\u001b[0m\u001b[0mevidence_var\u001b[0m\u001b[0;34m]\u001b[0m\u001b[0;34m:\u001b[0m\u001b[0;34m\u001b[0m\u001b[0;34m\u001b[0m\u001b[0m\n\u001b[0;32m---> 46\u001b[0;31m                     factor_reduced = factor.reduce(\n\u001b[0m\u001b[1;32m     47\u001b[0m                         \u001b[0;34m[\u001b[0m\u001b[0;34m(\u001b[0m\u001b[0mevidence_var\u001b[0m\u001b[0;34m,\u001b[0m \u001b[0mevidence\u001b[0m\u001b[0;34m[\u001b[0m\u001b[0mevidence_var\u001b[0m\u001b[0;34m]\u001b[0m\u001b[0;34m)\u001b[0m\u001b[0;34m]\u001b[0m\u001b[0;34m,\u001b[0m \u001b[0minplace\u001b[0m\u001b[0;34m=\u001b[0m\u001b[0;32mFalse\u001b[0m\u001b[0;34m\u001b[0m\u001b[0;34m\u001b[0m\u001b[0m\n\u001b[1;32m     48\u001b[0m                     )\n",
      "\u001b[0;32m/opt/anaconda3/lib/python3.8/site-packages/pgmpy/factors/discrete/DiscreteFactor.py\u001b[0m in \u001b[0;36mreduce\u001b[0;34m(self, values, inplace)\u001b[0m\n\u001b[1;32m    535\u001b[0m         \u001b[0mphi\u001b[0m\u001b[0;34m.\u001b[0m\u001b[0mdel_state_names\u001b[0m\u001b[0;34m(\u001b[0m\u001b[0;34m[\u001b[0m\u001b[0mvar\u001b[0m \u001b[0;32mfor\u001b[0m \u001b[0mvar\u001b[0m\u001b[0;34m,\u001b[0m \u001b[0m_\u001b[0m \u001b[0;32min\u001b[0m \u001b[0mvalues\u001b[0m\u001b[0;34m]\u001b[0m\u001b[0;34m)\u001b[0m\u001b[0;34m\u001b[0m\u001b[0;34m\u001b[0m\u001b[0m\n\u001b[1;32m    536\u001b[0m \u001b[0;34m\u001b[0m\u001b[0m\n\u001b[0;32m--> 537\u001b[0;31m         \u001b[0mphi\u001b[0m\u001b[0;34m.\u001b[0m\u001b[0mvalues\u001b[0m \u001b[0;34m=\u001b[0m \u001b[0mphi\u001b[0m\u001b[0;34m.\u001b[0m\u001b[0mvalues\u001b[0m\u001b[0;34m[\u001b[0m\u001b[0mtuple\u001b[0m\u001b[0;34m(\u001b[0m\u001b[0mslice_\u001b[0m\u001b[0;34m)\u001b[0m\u001b[0;34m]\u001b[0m\u001b[0;34m\u001b[0m\u001b[0;34m\u001b[0m\u001b[0m\n\u001b[0m\u001b[1;32m    538\u001b[0m \u001b[0;34m\u001b[0m\u001b[0m\n\u001b[1;32m    539\u001b[0m         \u001b[0;32mif\u001b[0m \u001b[0;32mnot\u001b[0m \u001b[0minplace\u001b[0m\u001b[0;34m:\u001b[0m\u001b[0;34m\u001b[0m\u001b[0;34m\u001b[0m\u001b[0m\n",
      "\u001b[0;31mIndexError\u001b[0m: only integers, slices (`:`), ellipsis (`...`), numpy.newaxis (`None`) and integer or boolean arrays are valid indices"
     ]
    }
   ],
   "source": [
    "#random select a row in testing dataset\n",
    "test1 = mc_test.sample(n=1)\n",
    "mc_bp.map_query(variables=['MC'], evidence={'PRECTOT': 0.0, 'ALLSKY_SFC_SW_DWN': 26.09, 'Temp': 29.4,\n",
    "                                          'DO':7.16, 'Chl-a':16.4, 'TP':0.23, 'Fe':870.0})"
   ]
  },
  {
   "cell_type": "code",
   "execution_count": 83,
   "metadata": {},
   "outputs": [
    {
     "data": {
      "text/html": [
       "<div>\n",
       "<style scoped>\n",
       "    .dataframe tbody tr th:only-of-type {\n",
       "        vertical-align: middle;\n",
       "    }\n",
       "\n",
       "    .dataframe tbody tr th {\n",
       "        vertical-align: top;\n",
       "    }\n",
       "\n",
       "    .dataframe thead th {\n",
       "        text-align: right;\n",
       "    }\n",
       "</style>\n",
       "<table border=\"1\" class=\"dataframe\">\n",
       "  <thead>\n",
       "    <tr style=\"text-align: right;\">\n",
       "      <th></th>\n",
       "      <th>PRECTOT</th>\n",
       "      <th>ALLSKY_SFC_SW_DWN</th>\n",
       "      <th>Temp</th>\n",
       "      <th>sin</th>\n",
       "      <th>DO</th>\n",
       "      <th>Chl-a</th>\n",
       "      <th>TP</th>\n",
       "      <th>Fe</th>\n",
       "      <th>MC</th>\n",
       "    </tr>\n",
       "  </thead>\n",
       "  <tbody>\n",
       "    <tr>\n",
       "      <th>121</th>\n",
       "      <td>0.0</td>\n",
       "      <td>26.09</td>\n",
       "      <td>29.4</td>\n",
       "      <td>-0.5</td>\n",
       "      <td>7.16</td>\n",
       "      <td>16.4</td>\n",
       "      <td>0.23</td>\n",
       "      <td>870.0</td>\n",
       "      <td>2.16</td>\n",
       "    </tr>\n",
       "  </tbody>\n",
       "</table>\n",
       "</div>"
      ],
      "text/plain": [
       "     PRECTOT  ALLSKY_SFC_SW_DWN  Temp  sin    DO  Chl-a    TP     Fe    MC\n",
       "121      0.0              26.09  29.4 -0.5  7.16   16.4  0.23  870.0  2.16"
      ]
     },
     "execution_count": 83,
     "metadata": {},
     "output_type": "execute_result"
    }
   ],
   "source": [
    "test1"
   ]
  },
  {
   "cell_type": "code",
   "execution_count": null,
   "metadata": {},
   "outputs": [],
   "source": []
  }
 ],
 "metadata": {
  "kernelspec": {
   "display_name": "Python 3",
   "language": "python",
   "name": "python3"
  },
  "language_info": {
   "codemirror_mode": {
    "name": "ipython",
    "version": 3
   },
   "file_extension": ".py",
   "mimetype": "text/x-python",
   "name": "python",
   "nbconvert_exporter": "python",
   "pygments_lexer": "ipython3",
   "version": "3.8.3"
  }
 },
 "nbformat": 4,
 "nbformat_minor": 4
}
