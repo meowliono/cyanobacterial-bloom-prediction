{
 "cells": [
  {
   "cell_type": "code",
   "execution_count": 2,
   "metadata": {},
   "outputs": [],
   "source": [
    "import numpy as np\n",
    "import pandas as pd\n",
    "from sklearn.model_selection import train_test_split\n",
    "from pgmpy.estimators import BDeuScore, K2Score, BicScore, ExhaustiveSearch, HillClimbSearch, BayesianEstimator, MaximumLikelihoodEstimator\n",
    "from pgmpy.models import BayesianModel\n",
    "from pgmpy.inference import BeliefPropagation"
   ]
  },
  {
   "cell_type": "markdown",
   "metadata": {},
   "source": [
    "## Data import and variable selection\n",
    "- Import geosmin, microcystin and cyanobacteria abundance datasets\n",
    "- Select columns according to importance ranking<br>"
   ]
  },
  {
   "cell_type": "code",
   "execution_count": 13,
   "metadata": {},
   "outputs": [],
   "source": [
    "df_g = pd.read_csv(\"geosmin.csv\")[['Date','SSC','NO','cos','DO','Si','TKN','Geo']]\n",
    "df_m = pd.read_csv(\"microcystin.csv\")[['Date','Temp','sin','DO','TP','Fe','MC']]\n",
    "df_c = pd.read_csv(\"cyanobacteria_abundance.csv\")\n",
    "df_spw = pd.read_csv(\"solar&prec&wind.csv\").drop([\"LAT\",\"LON\",\"YEAR\",\"MO\",\"DY\"], axis=1)"
   ]
  },
  {
   "cell_type": "markdown",
   "metadata": {},
   "source": [
    "## Data merge"
   ]
  },
  {
   "cell_type": "code",
   "execution_count": 14,
   "metadata": {},
   "outputs": [],
   "source": [
    "df_geo = df_spw.merge(df_g,on = 'Date',how = 'inner')\n",
    "df_mc = df_spw.merge(df_m,on = 'Date',how = 'inner')\n",
    "df_cyano = df_spw.merge(df_c,on = 'Date',how = 'inner')"
   ]
  },
  {
   "cell_type": "code",
   "execution_count": 15,
   "metadata": {},
   "outputs": [],
   "source": [
    "df_cyano.to_csv('cyano&spw.csv')"
   ]
  }
 ],
 "metadata": {
  "kernelspec": {
   "display_name": "Python 3",
   "language": "python",
   "name": "python3"
  },
  "language_info": {
   "codemirror_mode": {
    "name": "ipython",
    "version": 3
   },
   "file_extension": ".py",
   "mimetype": "text/x-python",
   "name": "python",
   "nbconvert_exporter": "python",
   "pygments_lexer": "ipython3",
   "version": "3.8.3"
  }
 },
 "nbformat": 4,
 "nbformat_minor": 4
}
