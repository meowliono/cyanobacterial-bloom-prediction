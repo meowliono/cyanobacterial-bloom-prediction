{
 "cells": [
  {
   "cell_type": "code",
   "execution_count": 124,
   "metadata": {},
   "outputs": [],
   "source": [
    "import numpy as np\n",
    "import matplotlib.pyplot as plt\n",
    "import seaborn as sns\n",
    "import pandas as pd\n",
    "from lgnpy import LinearGaussian\n",
    "from sklearn.metrics import r2_score"
   ]
  },
  {
   "cell_type": "markdown",
   "metadata": {},
   "source": [
    "![image](my_graph.png)"
   ]
  },
  {
   "cell_type": "code",
   "execution_count": 57,
   "metadata": {},
   "outputs": [],
   "source": [
    "df_parameter=pd.read_csv(\"parameter.csv\")\n",
    "df_test=pd.read_csv(\"cyano_test.csv\")\n",
    "df_test=df_test.rename(columns={\"PRECTOT\": \"prec\", \"ALLSKY_SFC_SW_DWN\": \"solar\"})"
   ]
  },
  {
   "cell_type": "code",
   "execution_count": 58,
   "metadata": {},
   "outputs": [],
   "source": [
    "df_test['DP']=df_test['DP'].apply(np.log)\n",
    "df_test['TKN']=df_test['TKN'].apply(np.log)\n",
    "df_test['DO']=df_test['DO'].apply(np.log)\n",
    "df_test['Turb']=df_test['Turb'].apply(np.log)\n",
    "df_test['Cyano']=df_test['Cyano'].apply(np.log)"
   ]
  },
  {
   "cell_type": "code",
   "execution_count": 60,
   "metadata": {},
   "outputs": [],
   "source": [
    "df_parameter\n",
    "mean = df_parameter['mean']\n",
    "sd = df_parameter['sd']"
   ]
  },
  {
   "cell_type": "code",
   "execution_count": 65,
   "metadata": {},
   "outputs": [],
   "source": [
    "lg = LinearGaussian()\n",
    "lg.set_edges_from([('prec', 'dp'), ('prec', 'tkn'), ('dp', 'cyano'), ('tkn', 'cyano'),('solar','cyano'),('temp','cyano'),('do','cyano'),('turb','cyano')])\n",
    "np.random.seed(42)\n",
    "n=10000\n",
    "data = pd.DataFrame(columns=['prec','dp','tkn','solar','temp','do','turb','cyano'])\n",
    "data['prec'] = np.random.exponential(mean[0],n)\n",
    "data['dp'] = mean[1]*data['prec']+np.random.normal(mean[2],mean[3],n)\n",
    "data['tkn'] = mean[4]*data['prec'] + np.random.normal(mean[5],mean[6],n)\n",
    "data['do'] = np.random.normal(mean[19],mean[20],n)\n",
    "data['turb']=np.random.normal(mean[21],mean[22],n)\n",
    "data['solar'] = mean[11]*np.random.normal(mean[7], mean[9],n)+mean[12]*np.random.normal(mean[8], mean[10],n)\n",
    "data['temp'] = mean[17]*np.random.normal(mean[13], mean[15],n)+mean[18]*np.random.normal(mean[14], mean[16],n)\n",
    "data['cyano']=mean[23]*data['solar']+mean[24]*data['temp']+mean[25]*data['tkn']+mean[26]*data['do']+mean[27]*data['dp']+mean[28]*data['turb']+np.random.normal(mean[29],mean[30],n)\n",
    "lg.set_data(data)"
   ]
  },
  {
   "cell_type": "code",
   "execution_count": 66,
   "metadata": {},
   "outputs": [
    {
     "data": {
      "text/html": [
       "<div>\n",
       "<style scoped>\n",
       "    .dataframe tbody tr th:only-of-type {\n",
       "        vertical-align: middle;\n",
       "    }\n",
       "\n",
       "    .dataframe tbody tr th {\n",
       "        vertical-align: top;\n",
       "    }\n",
       "\n",
       "    .dataframe thead th {\n",
       "        text-align: right;\n",
       "    }\n",
       "</style>\n",
       "<table border=\"1\" class=\"dataframe\">\n",
       "  <thead>\n",
       "    <tr style=\"text-align: right;\">\n",
       "      <th></th>\n",
       "      <th>Unnamed: 0</th>\n",
       "      <th>prec</th>\n",
       "      <th>solar</th>\n",
       "      <th>Date</th>\n",
       "      <th>DO</th>\n",
       "      <th>TKN</th>\n",
       "      <th>DP</th>\n",
       "      <th>Turb</th>\n",
       "      <th>Temp</th>\n",
       "      <th>Cyano</th>\n",
       "    </tr>\n",
       "  </thead>\n",
       "  <tbody>\n",
       "    <tr>\n",
       "      <th>0</th>\n",
       "      <td>0</td>\n",
       "      <td>0.29</td>\n",
       "      <td>12.10</td>\n",
       "      <td>2008-08-18</td>\n",
       "      <td>1.678964</td>\n",
       "      <td>-0.504181</td>\n",
       "      <td>-2.407946</td>\n",
       "      <td>2.674149</td>\n",
       "      <td>24.6</td>\n",
       "      <td>9.427063</td>\n",
       "    </tr>\n",
       "    <tr>\n",
       "      <th>1</th>\n",
       "      <td>1</td>\n",
       "      <td>0.00</td>\n",
       "      <td>10.07</td>\n",
       "      <td>2009-12-16</td>\n",
       "      <td>2.448416</td>\n",
       "      <td>-0.581606</td>\n",
       "      <td>-2.407946</td>\n",
       "      <td>2.484907</td>\n",
       "      <td>0.9</td>\n",
       "      <td>0.000000</td>\n",
       "    </tr>\n",
       "    <tr>\n",
       "      <th>2</th>\n",
       "      <td>2</td>\n",
       "      <td>7.63</td>\n",
       "      <td>26.91</td>\n",
       "      <td>2010-07-14</td>\n",
       "      <td>1.837370</td>\n",
       "      <td>-0.476424</td>\n",
       "      <td>-2.120264</td>\n",
       "      <td>3.161247</td>\n",
       "      <td>27.1</td>\n",
       "      <td>5.030438</td>\n",
       "    </tr>\n",
       "    <tr>\n",
       "      <th>3</th>\n",
       "      <td>3</td>\n",
       "      <td>0.00</td>\n",
       "      <td>21.10</td>\n",
       "      <td>2012-09-19</td>\n",
       "      <td>2.073172</td>\n",
       "      <td>-0.414001</td>\n",
       "      <td>-2.120264</td>\n",
       "      <td>3.222868</td>\n",
       "      <td>20.4</td>\n",
       "      <td>5.509388</td>\n",
       "    </tr>\n",
       "    <tr>\n",
       "      <th>4</th>\n",
       "      <td>4</td>\n",
       "      <td>0.00</td>\n",
       "      <td>25.81</td>\n",
       "      <td>2007-08-15</td>\n",
       "      <td>1.919859</td>\n",
       "      <td>-0.360970</td>\n",
       "      <td>-2.813411</td>\n",
       "      <td>2.821379</td>\n",
       "      <td>27.9</td>\n",
       "      <td>7.876259</td>\n",
       "    </tr>\n",
       "  </tbody>\n",
       "</table>\n",
       "</div>"
      ],
      "text/plain": [
       "   Unnamed: 0  prec  solar        Date        DO       TKN        DP  \\\n",
       "0           0  0.29  12.10  2008-08-18  1.678964 -0.504181 -2.407946   \n",
       "1           1  0.00  10.07  2009-12-16  2.448416 -0.581606 -2.407946   \n",
       "2           2  7.63  26.91  2010-07-14  1.837370 -0.476424 -2.120264   \n",
       "3           3  0.00  21.10  2012-09-19  2.073172 -0.414001 -2.120264   \n",
       "4           4  0.00  25.81  2007-08-15  1.919859 -0.360970 -2.813411   \n",
       "\n",
       "       Turb  Temp     Cyano  \n",
       "0  2.674149  24.6  9.427063  \n",
       "1  2.484907   0.9  0.000000  \n",
       "2  3.161247  27.1  5.030438  \n",
       "3  3.222868  20.4  5.509388  \n",
       "4  2.821379  27.9  7.876259  "
      ]
     },
     "execution_count": 66,
     "metadata": {},
     "output_type": "execute_result"
    }
   ],
   "source": [
    "df_test.head()"
   ]
  },
  {
   "cell_type": "code",
   "execution_count": 75,
   "metadata": {},
   "outputs": [
    {
     "data": {
      "text/plain": [
       "6.6938"
      ]
     },
     "execution_count": 75,
     "metadata": {},
     "output_type": "execute_result"
    }
   ],
   "source": [
    "lg.set_evidences({'prec':0.29,'solar':12.10, 'do':1.678964,'tkn':-0.504181, 'dp':-2.407946, 'turb':2.674149, 'temp':24.6})\n",
    "lg.run_inference(debug=False).loc['cyano','Mean_inferred']"
   ]
  },
  {
   "cell_type": "code",
   "execution_count": 123,
   "metadata": {},
   "outputs": [
    {
     "name": "stderr",
     "output_type": "stream",
     "text": [
      "/opt/anaconda3/lib/python3.8/site-packages/lgnpy/LinearGaussian.py:106: FutureWarning: The pandas.np module is deprecated and will be removed from pandas in a future version. Import numpy directly instead\n",
      "  .replace(pd.np.nan, \"\", regex=True)\n"
     ]
    },
    {
     "data": {
      "text/plain": [
       "-0.731472293095274"
      ]
     },
     "execution_count": 123,
     "metadata": {},
     "output_type": "execute_result"
    }
   ],
   "source": [
    "cyano_pred=[]\n",
    "n=len(df_test)\n",
    "for index, row in df_test.iterrows():\n",
    "    lg.set_evidences({'prec':row['prec'],'solar':row['solar'], 'do':row['DO'],'tkn':row['TKN'], 'dp':row['DO'], 'turb':row['Turb'], 'temp':row['Temp']})\n",
    "    cyano_pred.append(lg.run_inference(debug=False).loc['cyano','Mean_inferred'])\n",
    "r2_score(df_test['Cyano'], cyano_pred)"
   ]
  },
  {
   "cell_type": "code",
   "execution_count": null,
   "metadata": {},
   "outputs": [],
   "source": []
  }
 ],
 "metadata": {
  "kernelspec": {
   "display_name": "Python 3",
   "language": "python",
   "name": "python3"
  },
  "language_info": {
   "codemirror_mode": {
    "name": "ipython",
    "version": 3
   },
   "file_extension": ".py",
   "mimetype": "text/x-python",
   "name": "python",
   "nbconvert_exporter": "python",
   "pygments_lexer": "ipython3",
   "version": "3.8.3"
  }
 },
 "nbformat": 4,
 "nbformat_minor": 4
}
